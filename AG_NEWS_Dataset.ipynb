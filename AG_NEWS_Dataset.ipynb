{
  "nbformat": 4,
  "nbformat_minor": 0,
  "metadata": {
    "colab": {
      "provenance": []
    },
    "kernelspec": {
      "name": "python3",
      "display_name": "Python 3"
    },
    "language_info": {
      "name": "python"
    },
    "accelerator": "TPU"
  },
  "cells": [
    {
      "cell_type": "code",
      "execution_count": null,
      "metadata": {
        "id": "Pss2TQrh__ip"
      },
      "outputs": [],
      "source": [
        "import pandas as pd\n",
        "import numpy as np\n",
        "import torch\n",
        "\n",
        "import time\n",
        "from google.colab import drive\n",
        "import nltk\n",
        "from torch import nn\n",
        "from torchtext.vocab import build_vocab_from_iterator\n",
        "from torch.utils.data import DataLoader"
      ]
    },
    {
      "cell_type": "markdown",
      "source": [
        "### Google drive file upload"
      ],
      "metadata": {
        "id": "gQV7WE930fcz"
      }
    },
    {
      "cell_type": "code",
      "source": [
        "''' Yesterday I was completely able to put the train.csv file into Google Colab by dragging and dropping.\n",
        "    Today it's not working at all, way to go, Google Colab, you inconsistent piece of crap. So now I'll\n",
        "    use Google Drive. But the code works if Google Colab works, JUST CHANGE THE BOOLEAN TO TRUE\n",
        "\n",
        "\n",
        "    Update 1/14/2024 5:44 pm - It's somehow working again, uploading files to colab.\n",
        "\n",
        "    Update 1/16/2024 5:03 pm - Now I cannot upload the files directly to colab, using google drive again.\n",
        "\n",
        "    Update 1/17/2024 5:16 pm - Now it's working again. Not sure why this is so inconsistent.\n",
        "\n",
        "    Update 1/18/2024 8:54 am - Still working. Great, but still concerned about WHY inconsistency occurs. '''\n",
        "\n",
        "\n",
        "# Boolean to control how to get the file.\n",
        "upload_file_to_colab = True\n",
        "\n",
        "# Dataframe variable\n",
        "df = None\n",
        "\n",
        "if upload_file_to_colab is False:\n",
        "  drive.mount('/content/gdrive')\n",
        "  df = pd.read_csv('/content/gdrive/MyDrive/train.csv')\n",
        "else:\n",
        "  df = pd.read_csv('train.csv')"
      ],
      "metadata": {
        "id": "uhr18jTm0jt4"
      },
      "execution_count": null,
      "outputs": []
    },
    {
      "cell_type": "markdown",
      "source": [
        "# 1) Exploratory data analysis"
      ],
      "metadata": {
        "id": "HQj3rg4VCL3I"
      }
    },
    {
      "cell_type": "code",
      "source": [
        "df.head()"
      ],
      "metadata": {
        "colab": {
          "base_uri": "https://localhost:8080/",
          "height": 206
        },
        "id": "zb71yG9NCPWW",
        "outputId": "1e106395-d770-40dc-d3e4-147280e6b5ac"
      },
      "execution_count": null,
      "outputs": [
        {
          "output_type": "execute_result",
          "data": {
            "text/plain": [
              "   Class Index                                              Title  \\\n",
              "0            3  Wall St. Bears Claw Back Into the Black (Reuters)   \n",
              "1            3  Carlyle Looks Toward Commercial Aerospace (Reu...   \n",
              "2            3    Oil and Economy Cloud Stocks' Outlook (Reuters)   \n",
              "3            3  Iraq Halts Oil Exports from Main Southern Pipe...   \n",
              "4            3  Oil prices soar to all-time record, posing new...   \n",
              "\n",
              "                                         Description  \n",
              "0  Reuters - Short-sellers, Wall Street's dwindli...  \n",
              "1  Reuters - Private investment firm Carlyle Grou...  \n",
              "2  Reuters - Soaring crude prices plus worries\\ab...  \n",
              "3  Reuters - Authorities have halted oil export\\f...  \n",
              "4  AFP - Tearaway world oil prices, toppling reco...  "
            ],
            "text/html": [
              "\n",
              "  <div id=\"df-af99ebef-9eaa-4b0c-971a-1eb6442e5540\" class=\"colab-df-container\">\n",
              "    <div>\n",
              "<style scoped>\n",
              "    .dataframe tbody tr th:only-of-type {\n",
              "        vertical-align: middle;\n",
              "    }\n",
              "\n",
              "    .dataframe tbody tr th {\n",
              "        vertical-align: top;\n",
              "    }\n",
              "\n",
              "    .dataframe thead th {\n",
              "        text-align: right;\n",
              "    }\n",
              "</style>\n",
              "<table border=\"1\" class=\"dataframe\">\n",
              "  <thead>\n",
              "    <tr style=\"text-align: right;\">\n",
              "      <th></th>\n",
              "      <th>Class Index</th>\n",
              "      <th>Title</th>\n",
              "      <th>Description</th>\n",
              "    </tr>\n",
              "  </thead>\n",
              "  <tbody>\n",
              "    <tr>\n",
              "      <th>0</th>\n",
              "      <td>3</td>\n",
              "      <td>Wall St. Bears Claw Back Into the Black (Reuters)</td>\n",
              "      <td>Reuters - Short-sellers, Wall Street's dwindli...</td>\n",
              "    </tr>\n",
              "    <tr>\n",
              "      <th>1</th>\n",
              "      <td>3</td>\n",
              "      <td>Carlyle Looks Toward Commercial Aerospace (Reu...</td>\n",
              "      <td>Reuters - Private investment firm Carlyle Grou...</td>\n",
              "    </tr>\n",
              "    <tr>\n",
              "      <th>2</th>\n",
              "      <td>3</td>\n",
              "      <td>Oil and Economy Cloud Stocks' Outlook (Reuters)</td>\n",
              "      <td>Reuters - Soaring crude prices plus worries\\ab...</td>\n",
              "    </tr>\n",
              "    <tr>\n",
              "      <th>3</th>\n",
              "      <td>3</td>\n",
              "      <td>Iraq Halts Oil Exports from Main Southern Pipe...</td>\n",
              "      <td>Reuters - Authorities have halted oil export\\f...</td>\n",
              "    </tr>\n",
              "    <tr>\n",
              "      <th>4</th>\n",
              "      <td>3</td>\n",
              "      <td>Oil prices soar to all-time record, posing new...</td>\n",
              "      <td>AFP - Tearaway world oil prices, toppling reco...</td>\n",
              "    </tr>\n",
              "  </tbody>\n",
              "</table>\n",
              "</div>\n",
              "    <div class=\"colab-df-buttons\">\n",
              "\n",
              "  <div class=\"colab-df-container\">\n",
              "    <button class=\"colab-df-convert\" onclick=\"convertToInteractive('df-af99ebef-9eaa-4b0c-971a-1eb6442e5540')\"\n",
              "            title=\"Convert this dataframe to an interactive table.\"\n",
              "            style=\"display:none;\">\n",
              "\n",
              "  <svg xmlns=\"http://www.w3.org/2000/svg\" height=\"24px\" viewBox=\"0 -960 960 960\">\n",
              "    <path d=\"M120-120v-720h720v720H120Zm60-500h600v-160H180v160Zm220 220h160v-160H400v160Zm0 220h160v-160H400v160ZM180-400h160v-160H180v160Zm440 0h160v-160H620v160ZM180-180h160v-160H180v160Zm440 0h160v-160H620v160Z\"/>\n",
              "  </svg>\n",
              "    </button>\n",
              "\n",
              "  <style>\n",
              "    .colab-df-container {\n",
              "      display:flex;\n",
              "      gap: 12px;\n",
              "    }\n",
              "\n",
              "    .colab-df-convert {\n",
              "      background-color: #E8F0FE;\n",
              "      border: none;\n",
              "      border-radius: 50%;\n",
              "      cursor: pointer;\n",
              "      display: none;\n",
              "      fill: #1967D2;\n",
              "      height: 32px;\n",
              "      padding: 0 0 0 0;\n",
              "      width: 32px;\n",
              "    }\n",
              "\n",
              "    .colab-df-convert:hover {\n",
              "      background-color: #E2EBFA;\n",
              "      box-shadow: 0px 1px 2px rgba(60, 64, 67, 0.3), 0px 1px 3px 1px rgba(60, 64, 67, 0.15);\n",
              "      fill: #174EA6;\n",
              "    }\n",
              "\n",
              "    .colab-df-buttons div {\n",
              "      margin-bottom: 4px;\n",
              "    }\n",
              "\n",
              "    [theme=dark] .colab-df-convert {\n",
              "      background-color: #3B4455;\n",
              "      fill: #D2E3FC;\n",
              "    }\n",
              "\n",
              "    [theme=dark] .colab-df-convert:hover {\n",
              "      background-color: #434B5C;\n",
              "      box-shadow: 0px 1px 3px 1px rgba(0, 0, 0, 0.15);\n",
              "      filter: drop-shadow(0px 1px 2px rgba(0, 0, 0, 0.3));\n",
              "      fill: #FFFFFF;\n",
              "    }\n",
              "  </style>\n",
              "\n",
              "    <script>\n",
              "      const buttonEl =\n",
              "        document.querySelector('#df-af99ebef-9eaa-4b0c-971a-1eb6442e5540 button.colab-df-convert');\n",
              "      buttonEl.style.display =\n",
              "        google.colab.kernel.accessAllowed ? 'block' : 'none';\n",
              "\n",
              "      async function convertToInteractive(key) {\n",
              "        const element = document.querySelector('#df-af99ebef-9eaa-4b0c-971a-1eb6442e5540');\n",
              "        const dataTable =\n",
              "          await google.colab.kernel.invokeFunction('convertToInteractive',\n",
              "                                                    [key], {});\n",
              "        if (!dataTable) return;\n",
              "\n",
              "        const docLinkHtml = 'Like what you see? Visit the ' +\n",
              "          '<a target=\"_blank\" href=https://colab.research.google.com/notebooks/data_table.ipynb>data table notebook</a>'\n",
              "          + ' to learn more about interactive tables.';\n",
              "        element.innerHTML = '';\n",
              "        dataTable['output_type'] = 'display_data';\n",
              "        await google.colab.output.renderOutput(dataTable, element);\n",
              "        const docLink = document.createElement('div');\n",
              "        docLink.innerHTML = docLinkHtml;\n",
              "        element.appendChild(docLink);\n",
              "      }\n",
              "    </script>\n",
              "  </div>\n",
              "\n",
              "\n",
              "<div id=\"df-50d2d24d-e15c-47b6-ab75-5d28ea7918e8\">\n",
              "  <button class=\"colab-df-quickchart\" onclick=\"quickchart('df-50d2d24d-e15c-47b6-ab75-5d28ea7918e8')\"\n",
              "            title=\"Suggest charts\"\n",
              "            style=\"display:none;\">\n",
              "\n",
              "<svg xmlns=\"http://www.w3.org/2000/svg\" height=\"24px\"viewBox=\"0 0 24 24\"\n",
              "     width=\"24px\">\n",
              "    <g>\n",
              "        <path d=\"M19 3H5c-1.1 0-2 .9-2 2v14c0 1.1.9 2 2 2h14c1.1 0 2-.9 2-2V5c0-1.1-.9-2-2-2zM9 17H7v-7h2v7zm4 0h-2V7h2v10zm4 0h-2v-4h2v4z\"/>\n",
              "    </g>\n",
              "</svg>\n",
              "  </button>\n",
              "\n",
              "<style>\n",
              "  .colab-df-quickchart {\n",
              "      --bg-color: #E8F0FE;\n",
              "      --fill-color: #1967D2;\n",
              "      --hover-bg-color: #E2EBFA;\n",
              "      --hover-fill-color: #174EA6;\n",
              "      --disabled-fill-color: #AAA;\n",
              "      --disabled-bg-color: #DDD;\n",
              "  }\n",
              "\n",
              "  [theme=dark] .colab-df-quickchart {\n",
              "      --bg-color: #3B4455;\n",
              "      --fill-color: #D2E3FC;\n",
              "      --hover-bg-color: #434B5C;\n",
              "      --hover-fill-color: #FFFFFF;\n",
              "      --disabled-bg-color: #3B4455;\n",
              "      --disabled-fill-color: #666;\n",
              "  }\n",
              "\n",
              "  .colab-df-quickchart {\n",
              "    background-color: var(--bg-color);\n",
              "    border: none;\n",
              "    border-radius: 50%;\n",
              "    cursor: pointer;\n",
              "    display: none;\n",
              "    fill: var(--fill-color);\n",
              "    height: 32px;\n",
              "    padding: 0;\n",
              "    width: 32px;\n",
              "  }\n",
              "\n",
              "  .colab-df-quickchart:hover {\n",
              "    background-color: var(--hover-bg-color);\n",
              "    box-shadow: 0 1px 2px rgba(60, 64, 67, 0.3), 0 1px 3px 1px rgba(60, 64, 67, 0.15);\n",
              "    fill: var(--button-hover-fill-color);\n",
              "  }\n",
              "\n",
              "  .colab-df-quickchart-complete:disabled,\n",
              "  .colab-df-quickchart-complete:disabled:hover {\n",
              "    background-color: var(--disabled-bg-color);\n",
              "    fill: var(--disabled-fill-color);\n",
              "    box-shadow: none;\n",
              "  }\n",
              "\n",
              "  .colab-df-spinner {\n",
              "    border: 2px solid var(--fill-color);\n",
              "    border-color: transparent;\n",
              "    border-bottom-color: var(--fill-color);\n",
              "    animation:\n",
              "      spin 1s steps(1) infinite;\n",
              "  }\n",
              "\n",
              "  @keyframes spin {\n",
              "    0% {\n",
              "      border-color: transparent;\n",
              "      border-bottom-color: var(--fill-color);\n",
              "      border-left-color: var(--fill-color);\n",
              "    }\n",
              "    20% {\n",
              "      border-color: transparent;\n",
              "      border-left-color: var(--fill-color);\n",
              "      border-top-color: var(--fill-color);\n",
              "    }\n",
              "    30% {\n",
              "      border-color: transparent;\n",
              "      border-left-color: var(--fill-color);\n",
              "      border-top-color: var(--fill-color);\n",
              "      border-right-color: var(--fill-color);\n",
              "    }\n",
              "    40% {\n",
              "      border-color: transparent;\n",
              "      border-right-color: var(--fill-color);\n",
              "      border-top-color: var(--fill-color);\n",
              "    }\n",
              "    60% {\n",
              "      border-color: transparent;\n",
              "      border-right-color: var(--fill-color);\n",
              "    }\n",
              "    80% {\n",
              "      border-color: transparent;\n",
              "      border-right-color: var(--fill-color);\n",
              "      border-bottom-color: var(--fill-color);\n",
              "    }\n",
              "    90% {\n",
              "      border-color: transparent;\n",
              "      border-bottom-color: var(--fill-color);\n",
              "    }\n",
              "  }\n",
              "</style>\n",
              "\n",
              "  <script>\n",
              "    async function quickchart(key) {\n",
              "      const quickchartButtonEl =\n",
              "        document.querySelector('#' + key + ' button');\n",
              "      quickchartButtonEl.disabled = true;  // To prevent multiple clicks.\n",
              "      quickchartButtonEl.classList.add('colab-df-spinner');\n",
              "      try {\n",
              "        const charts = await google.colab.kernel.invokeFunction(\n",
              "            'suggestCharts', [key], {});\n",
              "      } catch (error) {\n",
              "        console.error('Error during call to suggestCharts:', error);\n",
              "      }\n",
              "      quickchartButtonEl.classList.remove('colab-df-spinner');\n",
              "      quickchartButtonEl.classList.add('colab-df-quickchart-complete');\n",
              "    }\n",
              "    (() => {\n",
              "      let quickchartButtonEl =\n",
              "        document.querySelector('#df-50d2d24d-e15c-47b6-ab75-5d28ea7918e8 button');\n",
              "      quickchartButtonEl.style.display =\n",
              "        google.colab.kernel.accessAllowed ? 'block' : 'none';\n",
              "    })();\n",
              "  </script>\n",
              "</div>\n",
              "\n",
              "    </div>\n",
              "  </div>\n"
            ]
          },
          "metadata": {},
          "execution_count": 3
        }
      ]
    },
    {
      "cell_type": "code",
      "source": [
        "df.shape"
      ],
      "metadata": {
        "colab": {
          "base_uri": "https://localhost:8080/"
        },
        "id": "RBYIorvECR2G",
        "outputId": "c71c07a1-d2d4-4916-c612-8592a7c1dbfe"
      },
      "execution_count": null,
      "outputs": [
        {
          "output_type": "execute_result",
          "data": {
            "text/plain": [
              "(120000, 3)"
            ]
          },
          "metadata": {},
          "execution_count": 4
        }
      ]
    },
    {
      "cell_type": "code",
      "source": [
        "# Good to see a balanced dataset.\n",
        "df['Class Index'].value_counts()"
      ],
      "metadata": {
        "colab": {
          "base_uri": "https://localhost:8080/"
        },
        "id": "Zt7nfZu4CVK6",
        "outputId": "596bde35-5ad9-4f60-e390-fe9a838c3138"
      },
      "execution_count": null,
      "outputs": [
        {
          "output_type": "execute_result",
          "data": {
            "text/plain": [
              "3    30000\n",
              "4    30000\n",
              "2    30000\n",
              "1    30000\n",
              "Name: Class Index, dtype: int64"
            ]
          },
          "metadata": {},
          "execution_count": 5
        }
      ]
    },
    {
      "cell_type": "markdown",
      "source": [
        "### 1.2) Exploring word usage"
      ],
      "metadata": {
        "id": "hphyxAj6Waw-"
      }
    },
    {
      "cell_type": "code",
      "source": [
        "''' Out of curiousity, view the overall lengths of the Titles vs Descriptions in graphs. The result is as\n",
        "    expected because titles are always short. Hence why their lengths are between 20 to 60. Yet the descriptions\n",
        "    are inbetween about 100 and 300. Makes sense. '''\n",
        "df['Title'].str.len().hist()"
      ],
      "metadata": {
        "colab": {
          "base_uri": "https://localhost:8080/",
          "height": 448
        },
        "id": "dN67R_OqCbNi",
        "outputId": "31b6181f-ec75-43f3-c8ed-92f8f54e393e"
      },
      "execution_count": null,
      "outputs": [
        {
          "output_type": "execute_result",
          "data": {
            "text/plain": [
              "<Axes: >"
            ]
          },
          "metadata": {},
          "execution_count": 6
        },
        {
          "output_type": "display_data",
          "data": {
            "text/plain": [
              "<Figure size 640x480 with 1 Axes>"
            ],
            "image/png": "[encoded data removed]"
          },
          "metadata": {}
        }
      ]
    },
    {
      "cell_type": "code",
      "source": [
        "df['Description'].str.len().hist()"
      ],
      "metadata": {
        "colab": {
          "base_uri": "https://localhost:8080/",
          "height": 448
        },
        "id": "aAx-uZgNJfW8",
        "outputId": "c432d084-74d0-4b81-ad29-f1bca20fd3c8"
      },
      "execution_count": null,
      "outputs": [
        {
          "output_type": "execute_result",
          "data": {
            "text/plain": [
              "<Axes: >"
            ]
          },
          "metadata": {},
          "execution_count": 7
        },
        {
          "output_type": "display_data",
          "data": {
            "text/plain": [
              "<Figure size 640x480 with 1 Axes>"
            ],
            "image/png": "[encoded data removed]"
          },
          "metadata": {}
        }
      ]
    },
    {
      "cell_type": "markdown",
      "source": [
        "### 1.3) Stop words"
      ],
      "metadata": {
        "id": "39Ijp9z-ZVCE"
      }
    },
    {
      "cell_type": "code",
      "source": [
        "''' Do stop words make up for most of the descriptions? Probably so, and if that's the case that would\n",
        "    explain, to some extent, why the descriptions lengths are so high. '''\n",
        "\n",
        "nltk.download('stopwords')"
      ],
      "metadata": {
        "colab": {
          "base_uri": "https://localhost:8080/"
        },
        "id": "2M-W_ocLK1sV",
        "outputId": "7a964ccd-a3c9-44d3-84e8-15c76fda93e8"
      },
      "execution_count": null,
      "outputs": [
        {
          "output_type": "stream",
          "name": "stderr",
          "text": [
            "[nltk_data] Downloading package stopwords to /root/nltk_data...\n",
            "[nltk_data]   Unzipping corpora/stopwords.zip.\n"
          ]
        },
        {
          "output_type": "execute_result",
          "data": {
            "text/plain": [
              "True"
            ]
          },
          "metadata": {},
          "execution_count": 8
        }
      ]
    },
    {
      "cell_type": "code",
      "source": [
        "stop_words = nltk.corpus.stopwords.words(\"english\")\n",
        "\n",
        "print(f'Stop words:\\n{stop_words[:10]}\\n')\n",
        "print(f'Stop words length: {len(stop_words)}')"
      ],
      "metadata": {
        "colab": {
          "base_uri": "https://localhost:8080/"
        },
        "id": "CcgQ6HRHMzrk",
        "outputId": "943ca27a-837f-4444-9141-b29d8031264e"
      },
      "execution_count": null,
      "outputs": [
        {
          "output_type": "stream",
          "name": "stdout",
          "text": [
            "Stop words:\n",
            "['i', 'me', 'my', 'myself', 'we', 'our', 'ours', 'ourselves', 'you', \"you're\"]\n",
            "\n",
            "Stop words length: 179\n"
          ]
        }
      ]
    },
    {
      "cell_type": "code",
      "source": [
        "''' In order to do this, it's necessary to go through each decription individually and check for stop\n",
        "    words. Start off by splitting each sentence in the dataframe by using \".str.split()\". With a text column/series,\n",
        "    only \".str\" is needed to apply string functionality to the entire column/series. Then convert to\n",
        "    list for simplicity, so descriptions will be a list of lists. '''\n",
        "\n",
        "descriptions = df['Description'].str.split()\n",
        "descriptions = descriptions.values.tolist()\n",
        "\n",
        "print(descriptions[:2])"
      ],
      "metadata": {
        "colab": {
          "base_uri": "https://localhost:8080/"
        },
        "id": "YBN2QjaWNxl8",
        "outputId": "8afa45a7-d020-4d2e-ec7c-fac5067e9bef"
      },
      "execution_count": null,
      "outputs": [
        {
          "output_type": "stream",
          "name": "stdout",
          "text": [
            "[['Reuters', '-', 'Short-sellers,', 'Wall', \"Street's\", 'dwindling\\\\band', 'of', 'ultra-cynics,', 'are', 'seeing', 'green', 'again.'], ['Reuters', '-', 'Private', 'investment', 'firm', 'Carlyle', 'Group,\\\\which', 'has', 'a', 'reputation', 'for', 'making', 'well-timed', 'and', 'occasionally\\\\controversial', 'plays', 'in', 'the', 'defense', 'industry,', 'has', 'quietly', 'placed\\\\its', 'bets', 'on', 'another', 'part', 'of', 'the', 'market.']]\n"
          ]
        }
      ]
    },
    {
      "cell_type": "code",
      "source": [
        "from collections import Counter\n",
        "\n",
        "# Count all the words seen\n",
        "c = Counter()\n",
        "\n",
        "# Loop through sentences, then loop through each stop words and check if sw is in sentence.\n",
        "for sentence in descriptions:\n",
        "  for sw in stop_words:\n",
        "    if sw in sentence:\n",
        "      # If so, add to counter obj to keep track\n",
        "      c[sw] += 1"
      ],
      "metadata": {
        "id": "Q4i1enB0Q3e8"
      },
      "execution_count": null,
      "outputs": []
    },
    {
      "cell_type": "code",
      "source": [
        "''' Simply by printing the Counter, it's clear that there's a SIGNIFCANT portion of stop words across all\n",
        "    descriptions. '''\n",
        "print(len(c))\n",
        "print(c)"
      ],
      "metadata": {
        "colab": {
          "base_uri": "https://localhost:8080/"
        },
        "id": "Pq5thZSFU3w0",
        "outputId": "e7eec249-437b-4c0b-85a1-d7ea6afc2176"
      },
      "execution_count": null,
      "outputs": [
        {
          "output_type": "stream",
          "name": "stdout",
          "text": [
            "169\n",
            "Counter({'the': 91038, 'to': 66522, 'a': 66404, 'of': 62917, 'in': 56938, 'and': 51338, 'on': 39846, 'for': 32278, 'that': 23983, 'with': 19904, 'its': 18079, 'as': 17977, 'is': 17571, 'at': 17529, 'has': 17049, 'by': 15862, 'from': 14541, 'an': 14169, 'it': 13613, 'will': 12326, 'was': 11817, 'his': 11803, 'after': 11136, 'have': 9953, 'be': 9652, 'their': 9179, 'over': 8296, 'are': 8291, 'but': 6860, 'more': 6567, 'this': 6552, 'he': 6386, 'up': 6042, 'against': 5630, 'than': 5618, 'into': 5499, 'who': 5480, 'about': 5357, 'were': 5311, 'been': 5208, 'not': 5123, 'they': 4988, 'out': 4954, 'had': 4853, 'which': 4390, 'when': 3961, 'or': 3331, 'off': 2923, 'some': 2909, 'most': 2768, 'other': 2732, 'can': 2687, 'all': 2574, 'before': 2443, 'just': 2264, 'between': 2207, 'during': 2176, 'down': 2168, 'if': 2030, 'what': 2015, 'no': 1914, 'won': 1910, 'while': 1867, 'being': 1865, 'through': 1829, 'because': 1753, 'only': 1713, 'them': 1693, 'under': 1581, 'her': 1571, 'now': 1540, 'you': 1521, 'him': 1514, 'where': 1328, 'there': 1282, 'so': 1275, 'should': 1243, 'any': 1221, 'how': 1209, 'such': 1073, 'both': 1066, 'do': 1011, 'your': 885, 'few': 839, 'did': 817, 'own': 810, 'here': 789, 'those': 784, 'she': 774, 'same': 752, 'again': 742, 'until': 673, 'each': 632, 'further': 601, 'once': 592, 'too': 573, 'we': 544, 'then': 519, 'above': 509, 'having': 444, 'does': 440, 'very': 416, 'our': 399, 'these': 372, 'below': 354, \"it's\": 329, 'himself': 325, 'why': 318, 'itself': 302, 'my': 281, 'didn': 276, 'themselves': 271, 'don': 232, 'doing': 228, 'doesn': 198, \"don't\": 195, \"won't\": 194, \"doesn't\": 183, \"didn't\": 180, 'isn': 176, 'wasn': 148, 'am': 141, 'me': 138, \"isn't\": 135, 'couldn': 103, 'aren': 95, \"you're\": 93, \"wasn't\": 93, 'whom': 85, 'hasn': 85, \"aren't\": 73, \"couldn't\": 67, 'haven': 66, 'nor': 62, 'herself': 61, 'wouldn': 58, \"hasn't\": 52, \"wouldn't\": 49, \"haven't\": 42, 'weren': 38, \"weren't\": 37, \"you've\": 37, \"you'll\": 33, 'yourself': 22, 'hadn': 21, 'shouldn': 20, \"shouldn't\": 16, 's': 16, 'd': 15, \"you'd\": 13, 'yours': 13, \"she's\": 12, 'myself': 11, 'ain': 11, 't': 11, \"hadn't\": 10, 'ourselves': 7, 'o': 7, 'theirs': 5, 'hers': 4, 'i': 3, 'y': 3, 'ours': 2, \"needn't\": 2, 'm': 2, 're': 2, 'ma': 1, \"mightn't\": 1, 'll': 1})\n"
          ]
        }
      ]
    },
    {
      "cell_type": "markdown",
      "source": [
        "# 2) Tokenization"
      ],
      "metadata": {
        "id": "elq9Gtaocbjy"
      }
    },
    {
      "cell_type": "code",
      "source": [
        "from torchtext.data.utils import get_tokenizer\n",
        "\n",
        "''' Tokenizers are used in nlp to turn strings/sentences into tokens. Ex: \"The cat is sleeping\" will become\n",
        "    ['The', 'cat', 'is', 'sleeping'].\n",
        "\n",
        "    tk = tokenizer '''\n",
        "\n",
        "tk = get_tokenizer('basic_english')"
      ],
      "metadata": {
        "id": "G7bImXpHmeB0"
      },
      "execution_count": null,
      "outputs": []
    },
    {
      "cell_type": "code",
      "source": [
        "''' A tokenizing function with yield in it is necessary because the \"yield\" keyword will work with iteration. And\n",
        "    that's what the build_vocab_from_iterator function will do. A vocab is a set of unique words in the dataset, so\n",
        "    that'll be necessary to create. So yield function -> build_vocab_from_iterator -> Vocab.\n",
        "\n",
        "    The yield keyword will make sure that the caller that's handling the function in a loop DOESN'T lose it's place so\n",
        "    it can continue from where it left off. Ex: An array has 3 values [5,10,15], when the loop first runs, the yield\n",
        "    function returns 5, then next it'll return 10.\n",
        "\n",
        "    The example below explains in more detail '''\n",
        "\n",
        "# Just get a couple description sentences for displaying.\n",
        "test_sentences = df['Description'].values.tolist()[:5]\n",
        "\n",
        "\n",
        "def test_tokenized_sentence():\n",
        "  for x in test_sentences:\n",
        "    yield tk(x)\n",
        "\n",
        "\n",
        "''' Enumerate just to show numerical order with the \"i+1\" part. Since the function is looped over, the yield statement\n",
        "    kicks in every iteration and keeps it's place to continue '''\n",
        "for i, x in enumerate(test_tokenized_sentence()):\n",
        "  print(f'---Test sentence #{i+1}---\\nOriginal sentence:\\n{test_sentences[i]}\\nTokenized sentence:\\n{x}\\n\\n')"
      ],
      "metadata": {
        "colab": {
          "base_uri": "https://localhost:8080/"
        },
        "id": "5Z_Hh0EHnzCd",
        "outputId": "f0aa1307-c93f-46fa-dbbf-88db10f9baf1"
      },
      "execution_count": null,
      "outputs": [
        {
          "output_type": "stream",
          "name": "stdout",
          "text": [
            "---Test sentence #1---\n",
            "Original sentence:\n",
            "Reuters - Short-sellers, Wall Street's dwindling\\band of ultra-cynics, are seeing green again.\n",
            "Tokenized sentence:\n",
            "['reuters', '-', 'short-sellers', ',', 'wall', 'street', \"'\", 's', 'dwindling\\\\band', 'of', 'ultra-cynics', ',', 'are', 'seeing', 'green', 'again', '.']\n",
            "\n",
            "\n",
            "---Test sentence #2---\n",
            "Original sentence:\n",
            "Reuters - Private investment firm Carlyle Group,\\which has a reputation for making well-timed and occasionally\\controversial plays in the defense industry, has quietly placed\\its bets on another part of the market.\n",
            "Tokenized sentence:\n",
            "['reuters', '-', 'private', 'investment', 'firm', 'carlyle', 'group', ',', '\\\\which', 'has', 'a', 'reputation', 'for', 'making', 'well-timed', 'and', 'occasionally\\\\controversial', 'plays', 'in', 'the', 'defense', 'industry', ',', 'has', 'quietly', 'placed\\\\its', 'bets', 'on', 'another', 'part', 'of', 'the', 'market', '.']\n",
            "\n",
            "\n",
            "---Test sentence #3---\n",
            "Original sentence:\n",
            "Reuters - Soaring crude prices plus worries\\about the economy and the outlook for earnings are expected to\\hang over the stock market next week during the depth of the\\summer doldrums.\n",
            "Tokenized sentence:\n",
            "['reuters', '-', 'soaring', 'crude', 'prices', 'plus', 'worries\\\\about', 'the', 'economy', 'and', 'the', 'outlook', 'for', 'earnings', 'are', 'expected', 'to\\\\hang', 'over', 'the', 'stock', 'market', 'next', 'week', 'during', 'the', 'depth', 'of', 'the\\\\summer', 'doldrums', '.']\n",
            "\n",
            "\n",
            "---Test sentence #4---\n",
            "Original sentence:\n",
            "Reuters - Authorities have halted oil export\\flows from the main pipeline in southern Iraq after\\intelligence showed a rebel militia could strike\\infrastructure, an oil official said on Saturday.\n",
            "Tokenized sentence:\n",
            "['reuters', '-', 'authorities', 'have', 'halted', 'oil', 'export\\\\flows', 'from', 'the', 'main', 'pipeline', 'in', 'southern', 'iraq', 'after\\\\intelligence', 'showed', 'a', 'rebel', 'militia', 'could', 'strike\\\\infrastructure', ',', 'an', 'oil', 'official', 'said', 'on', 'saturday', '.']\n",
            "\n",
            "\n",
            "---Test sentence #5---\n",
            "Original sentence:\n",
            "AFP - Tearaway world oil prices, toppling records and straining wallets, present a new economic menace barely three months before the US presidential elections.\n",
            "Tokenized sentence:\n",
            "['afp', '-', 'tearaway', 'world', 'oil', 'prices', ',', 'toppling', 'records', 'and', 'straining', 'wallets', ',', 'present', 'a', 'new', 'economic', 'menace', 'barely', 'three', 'months', 'before', 'the', 'us', 'presidential', 'elections', '.']\n",
            "\n",
            "\n"
          ]
        }
      ]
    },
    {
      "cell_type": "code",
      "source": [
        "# This yield func will take in all the sentences to loop over when called. build_vocab_from_iterator will make use of this.\n",
        "def get_tokenized_sentences(sentences):\n",
        "  for sent in sentences:\n",
        "    yield tk(sent)\n",
        "\n",
        "# Get all sentences into a list and create list for tokenized sentences\n",
        "all_sentences = df['Description'].values.tolist()"
      ],
      "metadata": {
        "id": "Qvf4yKcUtPVk"
      },
      "execution_count": null,
      "outputs": []
    },
    {
      "cell_type": "markdown",
      "source": [
        "# 3) Vocab"
      ],
      "metadata": {
        "id": "AFpceK2d41X-"
      }
    },
    {
      "cell_type": "code",
      "source": [
        "''' As stated before, to build the vocab, use build_vocab_from_iterator (bvfi) which takes a function as an iterable argument.\n",
        "    This function takes in an iterable, which makes yield functions great for it. As stated before, the yield will pause\n",
        "    every iteration to continue from where it left off. Pretty convenient. '''\n",
        "\n",
        "vocab = build_vocab_from_iterator(get_tokenized_sentences(all_sentences), specials=[\"<unk>\"])\n",
        "\n",
        "''' The special \"unk\" key is for when the vocab has to deal with unknown words. When the vocab is built, it will KNOW, n amount\n",
        "    of words. However if a new word comes in and it's not familar with it, it'll be classified as unk for unknown. '''\n",
        "vocab.set_default_index(vocab[\"<unk>\"])"
      ],
      "metadata": {
        "id": "Buygx7sd2p0A"
      },
      "execution_count": null,
      "outputs": []
    },
    {
      "cell_type": "code",
      "source": [
        "''' Display the numerical conversion of the test sentence: \"Reuters - Short-sellers, Wall Street's dwindling\\band of\n",
        "    ultra-cynics, are seeing green again.\"\n",
        "\n",
        "    Remember, tk = tokenizer, so the sentence mentioned above is tokenized FIRST, and THEN sent into the vocab object. '''\n",
        "\n",
        "vocab(tk(test_sentences[0]))"
      ],
      "metadata": {
        "colab": {
          "base_uri": "https://localhost:8080/"
        },
        "id": "RLCiEqPn43_L",
        "outputId": "899f14ac-d194-46e3-cb14-edc4c99b270c"
      },
      "execution_count": null,
      "outputs": [
        {
          "output_type": "execute_result",
          "data": {
            "text/plain": [
              "[30, 11, 44988, 3, 420, 332, 17, 9, 60687, 6, 46371, 3, 38, 3595, 812, 421, 1]"
            ]
          },
          "metadata": {},
          "execution_count": 17
        }
      ]
    },
    {
      "cell_type": "markdown",
      "source": [
        "# 4) Batches"
      ],
      "metadata": {
        "id": "UHVo1iuO7-R-"
      }
    },
    {
      "cell_type": "code",
      "source": [
        "''' Issue: I'm using the kaggle dataset. The torchtext dataset is made of tuples of numbers and strings\n",
        "    (what seems like descriptions) and passes THAT into the data loader so it can get processed. Mine\n",
        "    currently only has strings. I'd like to keep using the default dataset I got from kaggle, so I\n",
        "    found a way to put data into a (label, string) format just like the torchtext.datasets AG_NEWS\n",
        "    dataset with the code below. '''\n",
        "\n",
        "def dataframe_to_tuples(cur_df):\n",
        "  list_of_tuples = []\n",
        "\n",
        "  labels = cur_df['Class Index'].values.tolist()\n",
        "  descriptions = cur_df['Description'].values.tolist()\n",
        "\n",
        "  for i in range(len(labels)):\n",
        "    list_of_tuples.append((labels[i], descriptions[i]))\n",
        "\n",
        "  return list_of_tuples\n",
        "\n",
        "\n",
        "list_of_training_tuples = dataframe_to_tuples(df)\n",
        "\n",
        "list_of_training_tuples[:3]"
      ],
      "metadata": {
        "id": "UuvJOu44b9Ni",
        "colab": {
          "base_uri": "https://localhost:8080/"
        },
        "outputId": "ac8fbf2e-54d1-43ab-c3b2-4bd95a251acd"
      },
      "execution_count": null,
      "outputs": [
        {
          "output_type": "execute_result",
          "data": {
            "text/plain": [
              "[(3,\n",
              "  \"Reuters - Short-sellers, Wall Street's dwindling\\\\band of ultra-cynics, are seeing green again.\"),\n",
              " (3,\n",
              "  'Reuters - Private investment firm Carlyle Group,\\\\which has a reputation for making well-timed and occasionally\\\\controversial plays in the defense industry, has quietly placed\\\\its bets on another part of the market.'),\n",
              " (3,\n",
              "  'Reuters - Soaring crude prices plus worries\\\\about the economy and the outlook for earnings are expected to\\\\hang over the stock market next week during the depth of the\\\\summer doldrums.')]"
            ]
          },
          "metadata": {},
          "execution_count": 18
        }
      ]
    },
    {
      "cell_type": "code",
      "source": [
        "''' In pytorch, batches are mainly handled with the DataLoader object. The data loader can specify the batch size\n",
        "    and just as important, the function to edit the batch with the \"collate_fn\" argument.\n",
        "\n",
        "    Ex: dl = DataLoader(data, batch_size=64, shuffle=True, collate_fn=some_random_func_to_preprocess_batch_of_data) '''\n",
        "\n",
        "def preprocess_batch(cur_batch):\n",
        "  ''' Create lists to hold the labels, sentences/strings and offsets.\n",
        "\n",
        "        Offsets will be used with an embedding BAG layer for the model. The purpose of the embedding bag layer, stems\n",
        "        from the original embedding layer. With a regular embedding layer, padding is needed on sentences to go into\n",
        "        the model.\n",
        "          Ex:\n",
        "          ['The', 'cat', 'is', 'sleeping', unk, unk, unk, unk, unk]\n",
        "          ['I', 'completely', 'forgot', 'to', 'call', 'John', 'yesterday', 'after', 'work']\n",
        "\n",
        "        Both are length 9 because the first sentence was padded to match the second. But overall this is a waste of\n",
        "        time and energy. What if the dataset has a max sentence length that's 78 tokens? Or more? ALL the others have\n",
        "        to be padded to match it, which wastes time. What if the dataset had 1,000, 10,000, or 100,000 sentences and a\n",
        "        majority needed padding?\n",
        "\n",
        "        The embedding BAG layer solves this by not caring about padding at all. This layer uses the offset vector, which\n",
        "        is a separate vector entirely. All the sentences go inside ONE vector/tensor, and the offset vector holds start\n",
        "        and end positions.\n",
        "\n",
        "            Ex: The offset vector starts with 0 because it has to start somewhere. Length of first sentence is 29. It\n",
        "            starts at index 0. Length of second sentence is 42, it starts at index 29, where last sentence ended. Then\n",
        "            the 3rd s begins at 71 (42 + 29) '''\n",
        "  labels = []\n",
        "  sentences = []\n",
        "  offset_vector = [0]\n",
        "\n",
        "  # print(f'---Batch---\\n{cur_batch}\\n')\n",
        "\n",
        "  # Batches will be in [tuple, tuple, tuple, etc] format.\n",
        "  for cur_label, cur_sentence in cur_batch:\n",
        "    # Labels are currently 1 to n (1,2,3,4), make them index from 0 so they'll be 0 to n instead (0,1,2,3).\n",
        "    labels.append(int(cur_label - 1))\n",
        "\n",
        "    ''' Sentences must be turned into nums of course. Demonstrated in a previous cell with vocab and tokenizer.\n",
        "\n",
        "        Ex sentence: \"Reuters - Short-sellers, Wall Street's dwindling\\band of ultra-cynics, are seeing green again.\"\n",
        "\n",
        "        Ex sentence after tokenization: ['reuters', '-', 'short-sellers', ',', 'wall', 'street', \"'\", 's',\n",
        "          'dwindling\\\\band', 'of', 'ultra-cynics', ',', 'are', 'seeing', 'green', 'again', '.']\n",
        "\n",
        "        Ex sentence after vocab: [30, 11, 44988, 3, 420, 332, 17, 9, 60687, 6, 46371, 3, 38, 3595, 812, 421, 1]\n",
        "\n",
        "        Also typecast into a torch tensor object. The .size() will be used to get how many nums are in the sentence\n",
        "        after vocab is used. In the above case, it's 17. Also .size() will give the size in the format\n",
        "        \"torch.Size([17])\", so indexing does NOT work like \".size[0]\" but instead \".size(0)\".\n",
        "    '''\n",
        "    numeric_sentence = torch.tensor(vocab(tk(cur_sentence)), dtype=torch.int64)\n",
        "    sentences.append(numeric_sentence)\n",
        "    offset_vector.append(numeric_sentence.size(0))\n",
        "\n",
        "\n",
        "  # Convert the types\n",
        "  labels = torch.tensor(labels, dtype=torch.int64)\n",
        "\n",
        "  ''' Slicing + Negative indexing in THIS manner (offset_vector[:-1]) means I'll be getting the entire list,\n",
        "      EXCEPT for the last one. Ex: If [0, 17, 40] exists, then list[:-1] gets \"[0, 17]\".\n",
        "\n",
        "      cumsum (when dim=0), works in a way that takes the groups of the numbers in the offset vector to make a\n",
        "      NEW vector.\n",
        "        Ex: If offset vector is [1,2,3,4], then cumsum creates new vector.\n",
        "          1) 1 is first group, it's added to vector to make [1]\n",
        "          2) 1,2 is second group, all are added and assigned to vector to make [1,3]\n",
        "          3) 1,2,3 is third group, all are added and assigned to vector to make [1,3,6]\n",
        "          4) 1,2,3,4 is fourth group, all are added and assigned to vector to make [1,3,6,10]\n",
        "\n",
        "      Remember the offset vector will store positions of where each sentence starts and ends, and that this\n",
        "      offset vector refers to the other BIGGER vector that has all the combined numeric sentences in it.\n",
        "\n",
        "        Ex: Let's say if we have the first 3 sentences (and their numerical conversions):\n",
        "          1) \"Reuters - Short-sellers, Wall Street's dwindling\\\\band of ultra-cynics, are seeing green again.\"\n",
        "\n",
        "              [30, 11, 44988, 3, 420, 332, 17, 9, 60687, 6, 46371, 3, 38, 3595, 812, 421, 1]\n",
        "\n",
        "                Length 17\n",
        "\n",
        "\n",
        "          2) 'Reuters - Private investment firm Carlyle Group,\\\\which has a reputation for making well-timed\n",
        "              and occasionally\\\\controversial plays in the defense industry, has quietly placed\\\\its bets on\n",
        "              another part of the market.'\n",
        "\n",
        "              [30, 11, 858, 735, 331, 19164, 96, 3, 24132, 26, 4, 3869, 12, 507, 46842, 8, 73428, 2729, 7, 2,\n",
        "               525, 225, 3, 26, 3465, 75521, 8368, 10, 205, 301, 6, 2, 126, 1]\n",
        "\n",
        "                Length 34\n",
        "\n",
        "\n",
        "          3) \"Reuters - Soaring crude prices plus worries\\about the economy and the outlook for earnings\n",
        "              are expected to\\hang over the stock market next week during the depth of the\\summer doldrums.\"\n",
        "\n",
        "              [30, 11, 2145, 460, 105, 1665, 23876, 2, 360, 8, 2, 1010, 12, 303, 38, 218, 46095, 40, 2, 305,\n",
        "               126, 106, 80, 179, 2, 7827, 6, 35498, 15416, 1])\n",
        "\n",
        "                Length 30\n",
        "\n",
        "          Then we'll have a tensor like:\n",
        "\n",
        "          \"[30, 11, 44988, 3, 420, 332, 17, 9, 60687, 6, 46371, 3, 38, 3595, 812, 421, 1, 30,\n",
        "            11, 858, 735, 331, 19164, 96, 3, 24132, 26, 4, 3869, 12, 507, 46842, 8, 73428,\n",
        "            2729, 7, 2, 525, 225, 3, 26, 3465, 75521, 8368, 10, 205, 301, 6, 2, 126, 1 # 51\n",
        "            30, 11, 2145, 460, 105, 1665, 23876, 2, 360, 8, 2, 1010, 12, 303, 38, 218, 46095,\n",
        "            40, 2, 305, 126, 106, 80, 179, 2, 7827, 6, 35498, 15416, 1]\n",
        "\n",
        "          So if the offset vector is like [0,17,51] then it all makes sense. Because the first sentence\n",
        "          is at start index 0, end index 16. So index 17, is where the NEXT sentence starts, and index\n",
        "          50 is where it ends. etc etc. Everything comes together. '''\n",
        "  offset_vector = torch.tensor(offset_vector[:-1]).cumsum(0)\n",
        "\n",
        "  # Remember at this point the sentences are numeric.\n",
        "  sentences = torch.cat(sentences)\n",
        "\n",
        "  return labels, sentences, offset_vector\n",
        "\n",
        "\n",
        "dl = DataLoader(list_of_training_tuples, batch_size=8, shuffle=False, collate_fn=preprocess_batch)"
      ],
      "metadata": {
        "id": "iAoHPIeQ7qhi"
      },
      "execution_count": null,
      "outputs": []
    },
    {
      "cell_type": "markdown",
      "source": [
        "# 5) Model building"
      ],
      "metadata": {
        "id": "pGTOFvh-NdJ-"
      }
    },
    {
      "cell_type": "code",
      "source": [
        "''' The embedding BAG approach will be used instead of regular embedding. Although a normal embedding\n",
        "    layer model will be used later on just to see how the 2 compare.  '''\n",
        "\n",
        "class EmbeddingBagModel(nn.Module):\n",
        "  def __init__(self, num_classes_to_predict, vocab_size, embedding_size):\n",
        "    super(EmbeddingBagModel, self).__init__()\n",
        "\n",
        "    ''' Init all variables.\n",
        "        1) num_classes_to_predict - The final linear layer will be responsible for how many classes\n",
        "            to predict.\n",
        "\n",
        "        2) vocab_size - As said in one of the tokenization cells, a vocab is the set of unique words\n",
        "            in the dataset.\n",
        "\n",
        "        3) embedding_size - What size of the vector, the embedding bag layer will return.\n",
        "\n",
        "        Of course, the output of one layer, is input to the next. Hence why embedding_size is input\n",
        "        to the linear layer. '''\n",
        "    self.embedding_bag_layer = nn.EmbeddingBag(vocab_size, embedding_size, sparse=False)\n",
        "    self.linear_layer = nn.Linear(embedding_size, num_classes_to_predict)\n",
        "    self.assign_weight_values()\n",
        "\n",
        "\n",
        "\n",
        "  # Weights can be manually initialized or not.\n",
        "  def assign_weight_values(self):\n",
        "    weight_range = 0.5\n",
        "\n",
        "    # Give both layers weights that range from -value, to +value\n",
        "    self.embedding_bag_layer.weight.data.uniform_(-weight_range, weight_range)\n",
        "    self.linear_layer.weight.data.uniform_(-weight_range, weight_range)\n",
        "    self.linear_layer.bias.data.zero_()\n",
        "\n",
        "\n",
        "\n",
        "  ''' Forward func takes the input and passes it off, starting from the first layer. Remember, the embedding\n",
        "      bag layer handles offsets, so it'll take that as well as the batches of text  '''\n",
        "  def forward(self, sentences, offset_vec):\n",
        "    values = self.embedding_bag_layer(sentences, offset_vec)\n",
        "    return self.linear_layer(values)"
      ],
      "metadata": {
        "id": "bSJ1XqJSNfTt"
      },
      "execution_count": null,
      "outputs": []
    },
    {
      "cell_type": "code",
      "source": [
        "# Get the variables set up for the model class.\n",
        "num_of_classes =  len(set(df['Class Index']))\n",
        "vocab_size = len(vocab)\n",
        "\n",
        "# Random embedding size pretty much\n",
        "embedding_size = 64\n",
        "\n",
        "eb_model = EmbeddingBagModel(num_of_classes, vocab_size, embedding_size)"
      ],
      "metadata": {
        "id": "-eYI1xdQaJ_8"
      },
      "execution_count": null,
      "outputs": []
    },
    {
      "cell_type": "code",
      "source": [
        "for x in dl:\n",
        "  print(x)\n",
        "  break"
      ],
      "metadata": {
        "colab": {
          "base_uri": "https://localhost:8080/"
        },
        "id": "SLheDN1Ld2o6",
        "outputId": "5616282d-af34-4af9-c78a-65565a0051c6"
      },
      "execution_count": null,
      "outputs": [
        {
          "output_type": "stream",
          "name": "stdout",
          "text": [
            "(tensor([2, 2, 2, 2, 2, 2, 2, 2]), tensor([   30,    11, 44988,     3,   420,   332,    17,     9, 60687,     6,\n",
            "        46371,     3,    38,  3595,   812,   421,     1,    30,    11,   858,\n",
            "          735,   331, 19164,    96,     3, 24132,    26,     4,  3869,    12,\n",
            "          507, 46842,     8, 73428,  2729,     7,     2,   525,   225,     3,\n",
            "           26,  3465, 75521,  8368,    10,   205,   301,     6,     2,   126,\n",
            "            1,    30,    11,  2145,   460,   105,  1665, 23876,     2,   360,\n",
            "            8,     2,  1010,    12,   303,    38,   218, 46095,    40,     2,\n",
            "          305,   126,   106,    80,   179,     2,  7827,     6, 35498, 15416,\n",
            "            1,    30,    11,   681,    35,  5248,    83, 61940,    29,     2,\n",
            "          748,  3184,     7,   471,    97, 52280,   560,     4,   992,  2536,\n",
            "           92, 81694,     3,    28,    83,   281,    23,    10,    99,     1,\n",
            "          152,    11, 82575,    54,    83,   105,     3,  9565,  1725,     8,\n",
            "        13320,  8818,     3,  3491,     4,    27,   329, 14280,  2963,    89,\n",
            "          251,   144,     2,    43,   335,   542,     1,    30,    11,   271,\n",
            "          626,  1245,   307,    10, 63428,  3653,   391,  2421,    12,     2,\n",
            "           69,    19,    83,   105,  1819,   353,   469, 49405,   669,     3,\n",
            "        11624,     4,  1595,  1010,    29,   159, 70224,    56,     1,    15,\n",
            "         1147,     1,   326,    16,    42,    11,  1667,     6,     2,   322,\n",
            "           17,     9,   906,   745,   126,  1919,  1396,   344,    25,   469,\n",
            "          117,     1,   744,   131,     7,     2,   285,    80,     5,   469,\n",
            "        50215,     1,  8203,  5967,     3,     2,   735,    53,  2490,    23,\n",
            "           55,     1,  3094,     1,   226,    11,   906,   154,  5335,   128,\n",
            "            4,  2347,     7,  1128,     3,     8,    27,   821,    12,  3860,\n",
            "         1591,   344,    63,    80,     3,     2,    90,    23,    55,     3,\n",
            "         5937,     2,   360,    22,  2353,    29,     4, 23053,  4879,     1]), tensor([  0,  17,  51,  81, 110, 137, 174, 212]))\n"
          ]
        }
      ]
    },
    {
      "cell_type": "markdown",
      "source": [
        "# 6) Get model training ready"
      ],
      "metadata": {
        "id": "hS9av68cby7x"
      }
    },
    {
      "cell_type": "code",
      "source": [
        "''' Learning rate determines how big \"steps\" are to take to get to lowest loss. too big? Might not get that\n",
        "    sweet spot. Too small? Might take FOREVER to converge and that's a fate worse than death when speed is\n",
        "    almost always a top priority. '''\n",
        "# learning_rate = 5\n",
        "learning_rate = 0.1\n",
        "\n",
        "# Epochs are how many times to train the model.\n",
        "epochs = 10\n",
        "\n",
        "# How big should each batch be for training? Definitely influences speed\n",
        "batch_size = 64\n",
        "\n",
        "# Loss gets differences between predictions and ground truths. CrossEntropyLoss is good for classification as well\n",
        "cel = torch.nn.CrossEntropyLoss()\n",
        "\n",
        "''' Optimizers adjusts the model params to lessen model error every epoch. Using stochastic gradient descent.\n",
        "    It'll get the gradients and multiply them by a small factor (learning rate), take the result and subtract\n",
        "    it FROM the weights in order to get closer to 0. '''\n",
        "optimizer = torch.optim.SGD(eb_model.parameters(), lr=learning_rate)\n",
        "\n",
        "# Scheduler adjusts the learning rate/lr based on # of epochs.\n",
        "scheduler = torch.optim.lr_scheduler.StepLR(optimizer, 1.0, gamma=0.1)"
      ],
      "metadata": {
        "id": "D9puDi1WkvG_"
      },
      "execution_count": null,
      "outputs": []
    },
    {
      "cell_type": "code",
      "source": [
        "''' DataLoader is needed because batches of data will be taken from it when it's looped over.\n",
        "    Ex: \"for x in dl:\n",
        "           print(x)\n",
        "           break\"\n",
        "    This will print a batch of determined size with labels, concatenated numerical sentences and\n",
        "    the offset vector. '''\n",
        "def train_model(cur_data_loader):\n",
        "  eb_model.train()\n",
        "\n",
        "  # Accuracy = dividing how many the model got RIGHT out of a batch, vs the total IN the batch. Lists are for evaluation metrics.\n",
        "  acc = 0\n",
        "  count = 0\n",
        "  train_accuracies = []\n",
        "  train_losses = []\n",
        "\n",
        "  log_interval = 500\n",
        "\n",
        "  # Timing is important to track exactly where we're at.\n",
        "  start_time = time.time()\n",
        "\n",
        "  ''' Begin loop to access data that dataloader has. As stated before, with each iteration over the data\n",
        "      loader, it will return a labels, numeric sentences, and the offset vector\n",
        "\n",
        "      1) .zero_grad() - This sets all the weights of the gradients to 0. Absolutely necessary because if\n",
        "           .backward() is later used on a loss function while the gradients are NOT 0 (starting from a default\n",
        "           position), the gradients will stack and therefore computation numbers will be off.\n",
        "\n",
        "\n",
        "      2) prediction - In THIS specific case, remember there's 4 values for predictions which are: 1,2,3,4\n",
        "          (as seen with the code \"df['Class Index'].value_counts()\")\n",
        "\n",
        "            ALSO, the data loaders batch size I put when it was created was 8. So each one represents a\n",
        "            numerical sentence. So for predictions, it makes sense why the prediction is a tensor of\n",
        "            size 8 rows, 4 columns. A row for every sentence, and a column for type.\n",
        "\n",
        "            Ex:\n",
        "              \"tensor([[-1.4874, -1.7169,  5.1553, -1.7523],\n",
        "                      [-1.4961, -1.4595,  4.3765, -1.4398],\n",
        "                      [-1.3510, -1.2007,  4.2347, -1.4479],\n",
        "                      [-1.4007, -1.2626,  3.9441, -1.2419],\n",
        "                      [-1.4098, -1.4356,  4.4891, -1.3810],\n",
        "                      [-1.2410, -1.2840,  4.2341, -1.2046],\n",
        "                      [-1.2385, -1.2613,  3.8466, -1.1498],\n",
        "                      [-1.6010, -1.3493,  4.3046, -1.4361]], grad_fn=<AddmmBackward0>)\"\n",
        "\n",
        "            That's why argmax is used because argmax() will find the greatest values in a 2d matrix.\n",
        "            If it's given 1? It'll find the greatest values row by row and get the indices. If the ground\n",
        "            truths are \"tensor([2, 2, 2, 2, 2, 2, 2, 2])\" and in each row, it's clear that index 2 is what\n",
        "            the model will predict, it seems it got everything correct.\n",
        "\n",
        "            Comparing them both like predictions.argmax(1) == ground_truths will return a boolean tensor\n",
        "            such as \"tensor([True, True, True, True, True, True, True, True])\" Basically meaning \"Hey, the\n",
        "            model got THIS many right, out of the batch\". then sum.item() will get the numerical version of\n",
        "            how many it got right, like in the previous tensor that's 8/8, so the number will be 8\n",
        "\n",
        "\n",
        "      2) cel - CrossEntropyLoss, and as said before, losses get the difference between the predictions\n",
        "          and the ground truths (what the REAL label was).\n",
        "\n",
        "\n",
        "      3) .backward() - Use back propagation to update the models weights after predicting.\n",
        "\n",
        "\n",
        "      4) grad_norm - https://pytorch.org/docs/stable/generated/torch.nn.utils.clip_grad_norm_.html\n",
        "          A norm value is applied to all gradients as if they're in one vector, and gradients are modified\n",
        "          in place.\n",
        "\n",
        "\n",
        "      5) .step() - Update the gradients weights. How? I previous stated \"Using stochastic gradient descent.\n",
        "          It'll get the gradients and multiply them by a small factor (learning rate), take the result and\n",
        "          subtract it FROM the weights in order to get closer to 0.\n",
        "\n",
        "\n",
        "      6) Update accuracy and count - Accuracy will be how many the model got right, vs how many were total\n",
        "          in the batch. Explained in more detail in step 2.\n",
        "\n",
        "      7) Modulus - Used so we can see updates in a good fashion.\n",
        "          Ex: \"val = 500\n",
        "                 for i in range(1, 100):\n",
        "                    if 500 % i == 0:\n",
        "                        print(f'i: {i}')\"\n",
        "               i MUST start at one or a division by 0 error will occur. But, with code above, it gave me\n",
        "               back the numbers: \"1,2,4,5,10,20,25,50\". So this makes a gap to display updates.  '''\n",
        "  for i, (label, sentences, offset_vector) in enumerate(cur_data_loader):\n",
        "    optimizer.zero_grad()\n",
        "\n",
        "    prediction = eb_model(sentences, offset_vector)\n",
        "\n",
        "    loss = cel(prediction, label)\n",
        "\n",
        "    # For evaluation metrics\n",
        "    train_losses.append(loss)\n",
        "\n",
        "    loss.backward()\n",
        "\n",
        "    torch.nn.utils.clip_grad_norm_(eb_model.parameters(), 0.1)\n",
        "\n",
        "    optimizer.step()\n",
        "\n",
        "    # print(f'Prediction: {prediction}\\nGround truths:\\n{label}\\n')\n",
        "    boolean_tensor = (prediction.argmax(1) == label)\n",
        "    # print(f'Prediction argmax and label:\\n{boolean_tensor}\\n\\n')\n",
        "    num_of_correct_predictions = boolean_tensor.sum().item()\n",
        "\n",
        "    acc = acc + num_of_correct_predictions\n",
        "    count = count + label.size(0)\n",
        "\n",
        "    # For evaluation metrics.\n",
        "    train_accuracies.append(acc / count)\n",
        "\n",
        "    if i % log_interval == 0 and i > 0:\n",
        "      # See how much time it took to get here.\n",
        "      elapsed = time.time() - start_time\n",
        "\n",
        "      # Print info to see\n",
        "      print(\n",
        "          \"| epoch {:3d} | {:5d}/{:5d} batches \"\n",
        "          \"| accuracy {:8.3f}\".format(\n",
        "              epochs, i, len(cur_data_loader), acc / count\n",
        "          )\n",
        "      )\n",
        "\n",
        "      # After this pause to show information, reset variables.\n",
        "      acc, count = 0, 0\n",
        "      start_time = time.time()\n",
        "\n",
        "  # For evaluation metric\n",
        "  return train_accuracies, train_losses"
      ],
      "metadata": {
        "id": "KVqzJTX8cevA"
      },
      "execution_count": null,
      "outputs": []
    },
    {
      "cell_type": "code",
      "source": [
        "# Get test data loaded. tdf = test dataframe\n",
        "tdf = None\n",
        "\n",
        "if upload_file_to_colab is False:\n",
        "  tdf = pd.read_csv('/content/gdrive/MyDrive/test.csv')\n",
        "else:\n",
        "  tdf = pd.read_csv('test.csv')\n",
        "\n",
        "tdf.head()"
      ],
      "metadata": {
        "colab": {
          "base_uri": "https://localhost:8080/",
          "height": 206
        },
        "id": "zvK_0bnfBlpV",
        "outputId": "37c90e85-0f2d-438b-eeec-c88f909a232a"
      },
      "execution_count": null,
      "outputs": [
        {
          "output_type": "execute_result",
          "data": {
            "text/plain": [
              "   Class Index                                              Title  \\\n",
              "0            3                  Fears for T N pension after talks   \n",
              "1            4  The Race is On: Second Private Team Sets Launc...   \n",
              "2            4      Ky. Company Wins Grant to Study Peptides (AP)   \n",
              "3            4      Prediction Unit Helps Forecast Wildfires (AP)   \n",
              "4            4        Calif. Aims to Limit Farm-Related Smog (AP)   \n",
              "\n",
              "                                         Description  \n",
              "0  Unions representing workers at Turner   Newall...  \n",
              "1  SPACE.com - TORONTO, Canada -- A second\\team o...  \n",
              "2  AP - A company founded by a chemistry research...  \n",
              "3  AP - It's barely dawn when Mike Fitzpatrick st...  \n",
              "4  AP - Southern California's smog-fighting agenc...  "
            ],
            "text/html": [
              "\n",
              "  <div id=\"df-d2d685ef-f944-4349-a21c-845827991efa\" class=\"colab-df-container\">\n",
              "    <div>\n",
              "<style scoped>\n",
              "    .dataframe tbody tr th:only-of-type {\n",
              "        vertical-align: middle;\n",
              "    }\n",
              "\n",
              "    .dataframe tbody tr th {\n",
              "        vertical-align: top;\n",
              "    }\n",
              "\n",
              "    .dataframe thead th {\n",
              "        text-align: right;\n",
              "    }\n",
              "</style>\n",
              "<table border=\"1\" class=\"dataframe\">\n",
              "  <thead>\n",
              "    <tr style=\"text-align: right;\">\n",
              "      <th></th>\n",
              "      <th>Class Index</th>\n",
              "      <th>Title</th>\n",
              "      <th>Description</th>\n",
              "    </tr>\n",
              "  </thead>\n",
              "  <tbody>\n",
              "    <tr>\n",
              "      <th>0</th>\n",
              "      <td>3</td>\n",
              "      <td>Fears for T N pension after talks</td>\n",
              "      <td>Unions representing workers at Turner   Newall...</td>\n",
              "    </tr>\n",
              "    <tr>\n",
              "      <th>1</th>\n",
              "      <td>4</td>\n",
              "      <td>The Race is On: Second Private Team Sets Launc...</td>\n",
              "      <td>SPACE.com - TORONTO, Canada -- A second\\team o...</td>\n",
              "    </tr>\n",
              "    <tr>\n",
              "      <th>2</th>\n",
              "      <td>4</td>\n",
              "      <td>Ky. Company Wins Grant to Study Peptides (AP)</td>\n",
              "      <td>AP - A company founded by a chemistry research...</td>\n",
              "    </tr>\n",
              "    <tr>\n",
              "      <th>3</th>\n",
              "      <td>4</td>\n",
              "      <td>Prediction Unit Helps Forecast Wildfires (AP)</td>\n",
              "      <td>AP - It's barely dawn when Mike Fitzpatrick st...</td>\n",
              "    </tr>\n",
              "    <tr>\n",
              "      <th>4</th>\n",
              "      <td>4</td>\n",
              "      <td>Calif. Aims to Limit Farm-Related Smog (AP)</td>\n",
              "      <td>AP - Southern California's smog-fighting agenc...</td>\n",
              "    </tr>\n",
              "  </tbody>\n",
              "</table>\n",
              "</div>\n",
              "    <div class=\"colab-df-buttons\">\n",
              "\n",
              "  <div class=\"colab-df-container\">\n",
              "    <button class=\"colab-df-convert\" onclick=\"convertToInteractive('df-d2d685ef-f944-4349-a21c-845827991efa')\"\n",
              "            title=\"Convert this dataframe to an interactive table.\"\n",
              "            style=\"display:none;\">\n",
              "\n",
              "  <svg xmlns=\"http://www.w3.org/2000/svg\" height=\"24px\" viewBox=\"0 -960 960 960\">\n",
              "    <path d=\"M120-120v-720h720v720H120Zm60-500h600v-160H180v160Zm220 220h160v-160H400v160Zm0 220h160v-160H400v160ZM180-400h160v-160H180v160Zm440 0h160v-160H620v160ZM180-180h160v-160H180v160Zm440 0h160v-160H620v160Z\"/>\n",
              "  </svg>\n",
              "    </button>\n",
              "\n",
              "  <style>\n",
              "    .colab-df-container {\n",
              "      display:flex;\n",
              "      gap: 12px;\n",
              "    }\n",
              "\n",
              "    .colab-df-convert {\n",
              "      background-color: #E8F0FE;\n",
              "      border: none;\n",
              "      border-radius: 50%;\n",
              "      cursor: pointer;\n",
              "      display: none;\n",
              "      fill: #1967D2;\n",
              "      height: 32px;\n",
              "      padding: 0 0 0 0;\n",
              "      width: 32px;\n",
              "    }\n",
              "\n",
              "    .colab-df-convert:hover {\n",
              "      background-color: #E2EBFA;\n",
              "      box-shadow: 0px 1px 2px rgba(60, 64, 67, 0.3), 0px 1px 3px 1px rgba(60, 64, 67, 0.15);\n",
              "      fill: #174EA6;\n",
              "    }\n",
              "\n",
              "    .colab-df-buttons div {\n",
              "      margin-bottom: 4px;\n",
              "    }\n",
              "\n",
              "    [theme=dark] .colab-df-convert {\n",
              "      background-color: #3B4455;\n",
              "      fill: #D2E3FC;\n",
              "    }\n",
              "\n",
              "    [theme=dark] .colab-df-convert:hover {\n",
              "      background-color: #434B5C;\n",
              "      box-shadow: 0px 1px 3px 1px rgba(0, 0, 0, 0.15);\n",
              "      filter: drop-shadow(0px 1px 2px rgba(0, 0, 0, 0.3));\n",
              "      fill: #FFFFFF;\n",
              "    }\n",
              "  </style>\n",
              "\n",
              "    <script>\n",
              "      const buttonEl =\n",
              "        document.querySelector('#df-d2d685ef-f944-4349-a21c-845827991efa button.colab-df-convert');\n",
              "      buttonEl.style.display =\n",
              "        google.colab.kernel.accessAllowed ? 'block' : 'none';\n",
              "\n",
              "      async function convertToInteractive(key) {\n",
              "        const element = document.querySelector('#df-d2d685ef-f944-4349-a21c-845827991efa');\n",
              "        const dataTable =\n",
              "          await google.colab.kernel.invokeFunction('convertToInteractive',\n",
              "                                                    [key], {});\n",
              "        if (!dataTable) return;\n",
              "\n",
              "        const docLinkHtml = 'Like what you see? Visit the ' +\n",
              "          '<a target=\"_blank\" href=https://colab.research.google.com/notebooks/data_table.ipynb>data table notebook</a>'\n",
              "          + ' to learn more about interactive tables.';\n",
              "        element.innerHTML = '';\n",
              "        dataTable['output_type'] = 'display_data';\n",
              "        await google.colab.output.renderOutput(dataTable, element);\n",
              "        const docLink = document.createElement('div');\n",
              "        docLink.innerHTML = docLinkHtml;\n",
              "        element.appendChild(docLink);\n",
              "      }\n",
              "    </script>\n",
              "  </div>\n",
              "\n",
              "\n",
              "<div id=\"df-6853be54-3e1c-40c5-bc81-d4ddf77acbc1\">\n",
              "  <button class=\"colab-df-quickchart\" onclick=\"quickchart('df-6853be54-3e1c-40c5-bc81-d4ddf77acbc1')\"\n",
              "            title=\"Suggest charts\"\n",
              "            style=\"display:none;\">\n",
              "\n",
              "<svg xmlns=\"http://www.w3.org/2000/svg\" height=\"24px\"viewBox=\"0 0 24 24\"\n",
              "     width=\"24px\">\n",
              "    <g>\n",
              "        <path d=\"M19 3H5c-1.1 0-2 .9-2 2v14c0 1.1.9 2 2 2h14c1.1 0 2-.9 2-2V5c0-1.1-.9-2-2-2zM9 17H7v-7h2v7zm4 0h-2V7h2v10zm4 0h-2v-4h2v4z\"/>\n",
              "    </g>\n",
              "</svg>\n",
              "  </button>\n",
              "\n",
              "<style>\n",
              "  .colab-df-quickchart {\n",
              "      --bg-color: #E8F0FE;\n",
              "      --fill-color: #1967D2;\n",
              "      --hover-bg-color: #E2EBFA;\n",
              "      --hover-fill-color: #174EA6;\n",
              "      --disabled-fill-color: #AAA;\n",
              "      --disabled-bg-color: #DDD;\n",
              "  }\n",
              "\n",
              "  [theme=dark] .colab-df-quickchart {\n",
              "      --bg-color: #3B4455;\n",
              "      --fill-color: #D2E3FC;\n",
              "      --hover-bg-color: #434B5C;\n",
              "      --hover-fill-color: #FFFFFF;\n",
              "      --disabled-bg-color: #3B4455;\n",
              "      --disabled-fill-color: #666;\n",
              "  }\n",
              "\n",
              "  .colab-df-quickchart {\n",
              "    background-color: var(--bg-color);\n",
              "    border: none;\n",
              "    border-radius: 50%;\n",
              "    cursor: pointer;\n",
              "    display: none;\n",
              "    fill: var(--fill-color);\n",
              "    height: 32px;\n",
              "    padding: 0;\n",
              "    width: 32px;\n",
              "  }\n",
              "\n",
              "  .colab-df-quickchart:hover {\n",
              "    background-color: var(--hover-bg-color);\n",
              "    box-shadow: 0 1px 2px rgba(60, 64, 67, 0.3), 0 1px 3px 1px rgba(60, 64, 67, 0.15);\n",
              "    fill: var(--button-hover-fill-color);\n",
              "  }\n",
              "\n",
              "  .colab-df-quickchart-complete:disabled,\n",
              "  .colab-df-quickchart-complete:disabled:hover {\n",
              "    background-color: var(--disabled-bg-color);\n",
              "    fill: var(--disabled-fill-color);\n",
              "    box-shadow: none;\n",
              "  }\n",
              "\n",
              "  .colab-df-spinner {\n",
              "    border: 2px solid var(--fill-color);\n",
              "    border-color: transparent;\n",
              "    border-bottom-color: var(--fill-color);\n",
              "    animation:\n",
              "      spin 1s steps(1) infinite;\n",
              "  }\n",
              "\n",
              "  @keyframes spin {\n",
              "    0% {\n",
              "      border-color: transparent;\n",
              "      border-bottom-color: var(--fill-color);\n",
              "      border-left-color: var(--fill-color);\n",
              "    }\n",
              "    20% {\n",
              "      border-color: transparent;\n",
              "      border-left-color: var(--fill-color);\n",
              "      border-top-color: var(--fill-color);\n",
              "    }\n",
              "    30% {\n",
              "      border-color: transparent;\n",
              "      border-left-color: var(--fill-color);\n",
              "      border-top-color: var(--fill-color);\n",
              "      border-right-color: var(--fill-color);\n",
              "    }\n",
              "    40% {\n",
              "      border-color: transparent;\n",
              "      border-right-color: var(--fill-color);\n",
              "      border-top-color: var(--fill-color);\n",
              "    }\n",
              "    60% {\n",
              "      border-color: transparent;\n",
              "      border-right-color: var(--fill-color);\n",
              "    }\n",
              "    80% {\n",
              "      border-color: transparent;\n",
              "      border-right-color: var(--fill-color);\n",
              "      border-bottom-color: var(--fill-color);\n",
              "    }\n",
              "    90% {\n",
              "      border-color: transparent;\n",
              "      border-bottom-color: var(--fill-color);\n",
              "    }\n",
              "  }\n",
              "</style>\n",
              "\n",
              "  <script>\n",
              "    async function quickchart(key) {\n",
              "      const quickchartButtonEl =\n",
              "        document.querySelector('#' + key + ' button');\n",
              "      quickchartButtonEl.disabled = true;  // To prevent multiple clicks.\n",
              "      quickchartButtonEl.classList.add('colab-df-spinner');\n",
              "      try {\n",
              "        const charts = await google.colab.kernel.invokeFunction(\n",
              "            'suggestCharts', [key], {});\n",
              "      } catch (error) {\n",
              "        console.error('Error during call to suggestCharts:', error);\n",
              "      }\n",
              "      quickchartButtonEl.classList.remove('colab-df-spinner');\n",
              "      quickchartButtonEl.classList.add('colab-df-quickchart-complete');\n",
              "    }\n",
              "    (() => {\n",
              "      let quickchartButtonEl =\n",
              "        document.querySelector('#df-6853be54-3e1c-40c5-bc81-d4ddf77acbc1 button');\n",
              "      quickchartButtonEl.style.display =\n",
              "        google.colab.kernel.accessAllowed ? 'block' : 'none';\n",
              "    })();\n",
              "  </script>\n",
              "</div>\n",
              "\n",
              "    </div>\n",
              "  </div>\n"
            ]
          },
          "metadata": {},
          "execution_count": 25
        }
      ]
    },
    {
      "cell_type": "code",
      "source": [
        "# Use func to get tuples\n",
        "list_of_testing_tuples = dataframe_to_tuples(tdf)\n",
        "\n",
        "list_of_testing_tuples[:5]"
      ],
      "metadata": {
        "colab": {
          "base_uri": "https://localhost:8080/"
        },
        "id": "cY-X-FPbFt6f",
        "outputId": "eae4741a-adbe-4e37-f40f-255c4d0f72df"
      },
      "execution_count": null,
      "outputs": [
        {
          "output_type": "execute_result",
          "data": {
            "text/plain": [
              "[(3,\n",
              "  \"Unions representing workers at Turner   Newall say they are 'disappointed' after talks with stricken parent firm Federal Mogul.\"),\n",
              " (4,\n",
              "  'SPACE.com - TORONTO, Canada -- A second\\\\team of rocketeers competing for the  #36;10 million Ansari X Prize, a contest for\\\\privately funded suborbital space flight, has officially announced the first\\\\launch date for its manned rocket.'),\n",
              " (4,\n",
              "  'AP - A company founded by a chemistry researcher at the University of Louisville won a grant to develop a method of producing better peptides, which are short chains of amino acids, the building blocks of proteins.'),\n",
              " (4,\n",
              "  \"AP - It's barely dawn when Mike Fitzpatrick starts his shift with a blur of colorful maps, figures and endless charts, but already he knows what the day will bring. Lightning will strike in places he expects. Winds will pick up, moist places will dry and flames will roar.\"),\n",
              " (4,\n",
              "  \"AP - Southern California's smog-fighting agency went after emissions of the bovine variety Friday, adopting the nation's first rules to reduce air pollution from dairy cow manure.\")]"
            ]
          },
          "metadata": {},
          "execution_count": 26
        }
      ]
    },
    {
      "cell_type": "code",
      "source": [
        "''' Validation data isn't really MANDATORY but it'll sure help the model a LOT. So why not use some. The kaggle\n",
        "    link (https://www.kaggle.com/datasets/amananandrai/ag-news-classification-dataset) for this dataset only has\n",
        "    train and test, so a valid dataset will be built in another way.\n",
        "\n",
        "    Start by using the first line of code below. Can also do len(df) since it was created from train data, same\n",
        "    thing. Also multiplying by a decimal value will get that large of a portion OF the original size. Ex:\n",
        "    120,000 * 0.50 = 60,000, so that's half. '''\n",
        "\n",
        "train_size = int(len(list_of_training_tuples) * 0.95)"
      ],
      "metadata": {
        "id": "d9d-LtGaHH3O"
      },
      "execution_count": null,
      "outputs": []
    },
    {
      "cell_type": "code",
      "source": [
        "from torch.utils.data.dataset import random_split\n",
        "\n",
        "new_train_data, new_valid_data = random_split(list_of_training_tuples, [train_size, len(list_of_training_tuples) - train_size])\n",
        "\n",
        "print(len(new_train_data))\n",
        "print(len(new_valid_data))"
      ],
      "metadata": {
        "colab": {
          "base_uri": "https://localhost:8080/"
        },
        "id": "VnSJLK-lHH86",
        "outputId": "04cb20d5-c4cd-4960-b2e5-c076069e1971"
      },
      "execution_count": null,
      "outputs": [
        {
          "output_type": "stream",
          "name": "stdout",
          "text": [
            "114000\n",
            "6000\n"
          ]
        }
      ]
    },
    {
      "cell_type": "code",
      "source": [
        "new_train_data.dataset[:3]"
      ],
      "metadata": {
        "colab": {
          "base_uri": "https://localhost:8080/"
        },
        "id": "bjycnk5FKeU0",
        "outputId": "24e176f9-5b7e-4ce9-ee5f-5f1c6ca4f9f5"
      },
      "execution_count": null,
      "outputs": [
        {
          "output_type": "execute_result",
          "data": {
            "text/plain": [
              "[(3,\n",
              "  \"Reuters - Short-sellers, Wall Street's dwindling\\\\band of ultra-cynics, are seeing green again.\"),\n",
              " (3,\n",
              "  'Reuters - Private investment firm Carlyle Group,\\\\which has a reputation for making well-timed and occasionally\\\\controversial plays in the defense industry, has quietly placed\\\\its bets on another part of the market.'),\n",
              " (3,\n",
              "  'Reuters - Soaring crude prices plus worries\\\\about the economy and the outlook for earnings are expected to\\\\hang over the stock market next week during the depth of the\\\\summer doldrums.')]"
            ]
          },
          "metadata": {},
          "execution_count": 29
        }
      ]
    },
    {
      "cell_type": "code",
      "source": [
        "# Since data exists for train, test, and valid, create data loaders for each.\n",
        "train_dl = DataLoader(new_train_data.dataset, batch_size=batch_size, shuffle=True, collate_fn=preprocess_batch)\n",
        "valid_dl = DataLoader(new_valid_data.dataset, batch_size=batch_size, shuffle=True, collate_fn=preprocess_batch)\n",
        "test_dl = DataLoader(list_of_testing_tuples, batch_size=batch_size, shuffle=True, collate_fn=preprocess_batch)"
      ],
      "metadata": {
        "id": "JJKlWJyeHIBz"
      },
      "execution_count": null,
      "outputs": []
    },
    {
      "cell_type": "markdown",
      "source": [
        "### 6.2) Creating testing function"
      ],
      "metadata": {
        "id": "Gx0lgf8OLsc_"
      }
    },
    {
      "cell_type": "code",
      "source": [
        "''' Pretter similar to the train function in all honesty. Minor differences.\n",
        "\n",
        "    1) .eval() - Turns off dropout layers that were used during training\n",
        "    2) no_grad() - Use for predictions to ensure no gradient calculations. All requires_grad flags are\n",
        "        set to false. '''\n",
        "\n",
        "def test(cur_dl):\n",
        "  eb_model.eval()\n",
        "\n",
        "  acc = 0\n",
        "  count = 0\n",
        "  loss = 0\n",
        "\n",
        "  with torch.no_grad():\n",
        "    for i, (label, sentences, offset_vector) in enumerate(cur_dl):\n",
        "      prediction = eb_model(sentences, offset_vector)\n",
        "      loss = cel(prediction, label)\n",
        "\n",
        "      boolean_tensor = (prediction.argmax(1) == label)\n",
        "      num_of_correct_predictions = boolean_tensor.sum().item()\n",
        "      acc = acc + num_of_correct_predictions\n",
        "      count = count + label.size(0)\n",
        "\n",
        "  return (acc / count), loss"
      ],
      "metadata": {
        "id": "HUp8468WLy-I"
      },
      "execution_count": null,
      "outputs": []
    },
    {
      "cell_type": "markdown",
      "source": [
        "### 6.3) Training model"
      ],
      "metadata": {
        "id": "r45Voxhq_Etp"
      }
    },
    {
      "cell_type": "code",
      "source": [
        "total_acc = None\n",
        "\n",
        "# For evaluation metrics.\n",
        "train_accuracies = []\n",
        "train_losses = []\n",
        "test_accuracies = []\n",
        "test_losses = []\n",
        "\n",
        "# Real training, of course iterate for however many num of epochs.\n",
        "for i in range(epochs):\n",
        "  # Begin timing on the training process\n",
        "  time_start = time.time()\n",
        "\n",
        "  # Both train and test return metrics\n",
        "  cur_train_accuracies, cur_train_losses = train_model(train_dl)\n",
        "  test_accuracy, test_loss = test(valid_dl)\n",
        "\n",
        "  # For evaluation metrics.\n",
        "  train_accuracies.append(cur_train_accuracies)\n",
        "  train_losses.append(cur_train_losses)\n",
        "\n",
        "  test_accuracies.append(test_accuracy)\n",
        "  test_losses.append(test_loss)\n",
        "\n",
        "  ''' First run? total_accu is none. Second run, make sure it's bigger than the recent test result. Also\n",
        "      remember scheduler.step adjusts lr based on # of epochs. '''\n",
        "  if total_acc is not None and total_acc > test_accuracy:\n",
        "    scheduler.step()\n",
        "  else:\n",
        "    total_acc = test_accuracy\n",
        "\n",
        "\n",
        "\n",
        "  print(\"-\" * 59)\n",
        "  print(\n",
        "      \"| end of epoch {:3d} | time: {:5.2f}s | \"\n",
        "      \"valid accuracy {:8.3f} \".format(\n",
        "          i, time.time() - time_start, test_accuracy\n",
        "      )\n",
        "  )\n",
        "  print(\"-\" * 59)"
      ],
      "metadata": {
        "colab": {
          "base_uri": "https://localhost:8080/"
        },
        "id": "5iWEH6FirUlI",
        "outputId": "0177e5e0-26cb-413c-b583-f3c30d1a6295"
      },
      "execution_count": null,
      "outputs": [
        {
          "output_type": "stream",
          "name": "stdout",
          "text": [
            "| epoch  10 |   500/ 1875 batches | accuracy    0.293\n",
            "| epoch  10 |  1000/ 1875 batches | accuracy    0.366\n",
            "| epoch  10 |  1500/ 1875 batches | accuracy    0.417\n",
            "-----------------------------------------------------------\n",
            "| end of epoch   0 | time: 45.60s | valid accuracy    0.467 \n",
            "-----------------------------------------------------------\n",
            "| epoch  10 |   500/ 1875 batches | accuracy    0.482\n",
            "| epoch  10 |  1000/ 1875 batches | accuracy    0.501\n",
            "| epoch  10 |  1500/ 1875 batches | accuracy    0.530\n",
            "-----------------------------------------------------------\n",
            "| end of epoch   1 | time: 46.74s | valid accuracy    0.554 \n",
            "-----------------------------------------------------------\n",
            "| epoch  10 |   500/ 1875 batches | accuracy    0.558\n",
            "| epoch  10 |  1000/ 1875 batches | accuracy    0.588\n",
            "| epoch  10 |  1500/ 1875 batches | accuracy    0.595\n",
            "-----------------------------------------------------------\n",
            "| end of epoch   2 | time: 44.01s | valid accuracy    0.622 \n",
            "-----------------------------------------------------------\n",
            "| epoch  10 |   500/ 1875 batches | accuracy    0.635\n",
            "| epoch  10 |  1000/ 1875 batches | accuracy    0.644\n",
            "| epoch  10 |  1500/ 1875 batches | accuracy    0.653\n",
            "-----------------------------------------------------------\n",
            "| end of epoch   3 | time: 49.12s | valid accuracy    0.675 \n",
            "-----------------------------------------------------------\n",
            "| epoch  10 |   500/ 1875 batches | accuracy    0.679\n",
            "| epoch  10 |  1000/ 1875 batches | accuracy    0.691\n",
            "| epoch  10 |  1500/ 1875 batches | accuracy    0.701\n",
            "-----------------------------------------------------------\n",
            "| end of epoch   4 | time: 44.80s | valid accuracy    0.714 \n",
            "-----------------------------------------------------------\n",
            "| epoch  10 |   500/ 1875 batches | accuracy    0.721\n",
            "| epoch  10 |  1000/ 1875 batches | accuracy    0.724\n",
            "| epoch  10 |  1500/ 1875 batches | accuracy    0.737\n",
            "-----------------------------------------------------------\n",
            "| end of epoch   5 | time: 46.74s | valid accuracy    0.743 \n",
            "-----------------------------------------------------------\n",
            "| epoch  10 |   500/ 1875 batches | accuracy    0.744\n",
            "| epoch  10 |  1000/ 1875 batches | accuracy    0.755\n",
            "| epoch  10 |  1500/ 1875 batches | accuracy    0.759\n",
            "-----------------------------------------------------------\n",
            "| end of epoch   6 | time: 45.77s | valid accuracy    0.764 \n",
            "-----------------------------------------------------------\n",
            "| epoch  10 |   500/ 1875 batches | accuracy    0.770\n",
            "| epoch  10 |  1000/ 1875 batches | accuracy    0.770\n",
            "| epoch  10 |  1500/ 1875 batches | accuracy    0.776\n",
            "-----------------------------------------------------------\n",
            "| end of epoch   7 | time: 46.62s | valid accuracy    0.782 \n",
            "-----------------------------------------------------------\n",
            "| epoch  10 |   500/ 1875 batches | accuracy    0.786\n",
            "| epoch  10 |  1000/ 1875 batches | accuracy    0.787\n",
            "| epoch  10 |  1500/ 1875 batches | accuracy    0.791\n",
            "-----------------------------------------------------------\n",
            "| end of epoch   8 | time: 46.08s | valid accuracy    0.795 \n",
            "-----------------------------------------------------------\n",
            "| epoch  10 |   500/ 1875 batches | accuracy    0.797\n",
            "| epoch  10 |  1000/ 1875 batches | accuracy    0.798\n",
            "| epoch  10 |  1500/ 1875 batches | accuracy    0.803\n",
            "-----------------------------------------------------------\n",
            "| end of epoch   9 | time: 46.23s | valid accuracy    0.806 \n",
            "-----------------------------------------------------------\n"
          ]
        }
      ]
    },
    {
      "cell_type": "markdown",
      "source": [
        "# 7) Model evaluation"
      ],
      "metadata": {
        "id": "sBnC2WXq_KYR"
      }
    },
    {
      "cell_type": "code",
      "source": [
        "''' Issue: The first graph attempt wasn't sensible. Lines up and down for all_training_accuracies. When looking at the\n",
        "    2d list all_training_accuracies closer, some values in inner lists are actually DECREASING.\n",
        "\n",
        "    Ex portion of an inner list in all_training_accuracies:\n",
        "    \"[0.96875,\n",
        "      0.9765625,\n",
        "      0.96875,\n",
        "      0.96484375,\n",
        "      0.95625,\n",
        "      0.9427083333333334,\n",
        "      0.9441964285714286,\n",
        "      0.939453125,\n",
        "      0.9409722222222222,\n",
        "      0.94375,\n",
        "      0.9375,\n",
        "      0.9375]\"\n",
        "\n",
        "    With that said, a good solution might be to get the mean, which is the sum of the values in a list divided by\n",
        "    total nums. So the list comprehension below will take all inner lists of nums and get the means of each in\n",
        "    one list.\n",
        "\n",
        "    Somewhat the same process with the losses. But with them, a list in the 2d list will look like:\n",
        "    \"[tensor(1.4096, grad_fn=<NllLossBackward0>), tensor(1.3890, grad_fn=<NllLossBackward0>), etc] '''\n",
        "\n",
        "_train_accuracies = [np.mean(train_accs) for train_accs in train_accuracies]\n",
        "\n",
        "# _train_losses = [np.mean(losses) for losses in train_losses]\n",
        "\n",
        "_train_losses = []\n",
        "for tl in train_losses:\n",
        "  # Convert each tensor list into regular floats\n",
        "  tensor_to_floats = [t.data.item() for t in tl]\n",
        "  _train_losses.append(np.mean(tensor_to_floats))\n",
        "\n",
        "print(f'Training accuracies:\\n{_train_accuracies}\\n\\nTraining losses:\\n{_train_losses}')"
      ],
      "metadata": {
        "id": "l_RupFM-6TV7",
        "colab": {
          "base_uri": "https://localhost:8080/"
        },
        "outputId": "241b0bbe-d4d3-4d7f-8b33-9b4b73696acf"
      },
      "execution_count": null,
      "outputs": [
        {
          "output_type": "stream",
          "name": "stdout",
          "text": [
            "Training accuracies:\n",
            "[0.36480028788851326, 0.5094025512905354, 0.5844056353915771, 0.6440684100657258, 0.6934753865875374, 0.7283645718993612, 0.7533275181659119, 0.7735961134560218, 0.7858344126630873, 0.7994912151395339]\n",
            "\n",
            "Training losses:\n",
            "[1.3442758415857952, 1.2334499081929524, 1.1022219162623088, 0.9753563533465067, 0.8686167806625367, 0.7836107541720072, 0.7175545816580454, 0.6653441174030303, 0.6235796196460723, 0.5897582337379456]\n"
          ]
        }
      ]
    },
    {
      "cell_type": "code",
      "source": [
        "# Same process for test LOSSES, not accuracies. Test accuracies is 1d, while losses are in tensor form described above.\n",
        "_test_losses = []\n",
        "for tl in test_losses:\n",
        "  _test_losses.append(tl.data.item())\n",
        "\n",
        "print(f'Testing accuracies:\\n{test_accuracies}\\n\\nTest losses:\\n{_test_losses}')"
      ],
      "metadata": {
        "id": "qjYfCaWbD4WZ",
        "colab": {
          "base_uri": "https://localhost:8080/"
        },
        "outputId": "057b9b90-4136-46de-f910-4cc819dcafd5"
      },
      "execution_count": null,
      "outputs": [
        {
          "output_type": "stream",
          "name": "stdout",
          "text": [
            "Testing accuracies:\n",
            "[0.46685, 0.553925, 0.6219583333333333, 0.6750916666666666, 0.7141916666666667, 0.7434916666666667, 0.7642333333333333, 0.782375, 0.7952083333333333, 0.8064583333333334]\n",
            "\n",
            "Test losses:\n",
            "[1.2835649251937866, 1.1526228189468384, 1.0034509897232056, 0.8460972309112549, 0.854055643081665, 0.7282232642173767, 0.707172155380249, 0.650678277015686, 0.598831295967102, 0.4175674617290497]\n"
          ]
        }
      ]
    },
    {
      "cell_type": "code",
      "source": [
        "import matplotlib.pyplot as plt\n",
        "\n",
        "fig = plt.figure(figsize=(13,6))\n",
        "\n",
        "plt.plot(_train_accuracies, label='Train Accuracies')\n",
        "plt.plot(test_accuracies, label='Test Accuracies')\n",
        "plt.title('Train Vs Test Accuracy')\n",
        "plt.legend()\n",
        "plt.grid()\n",
        "\n",
        "plt.show()"
      ],
      "metadata": {
        "id": "v03js2GdyU3a",
        "colab": {
          "base_uri": "https://localhost:8080/",
          "height": 545
        },
        "outputId": "5eb19e32-60d2-4f50-99a3-c166f9f968e2"
      },
      "execution_count": null,
      "outputs": [
        {
          "output_type": "display_data",
          "data": {
            "text/plain": [
              "<Figure size 1300x600 with 1 Axes>"
            ],
            "image/png": "[encoded data removed]"
          },
          "metadata": {}
        }
      ]
    },
    {
      "cell_type": "code",
      "source": [
        "import matplotlib.pyplot as plt\n",
        "\n",
        "\n",
        "''' Issue here: Clearly the test loss line is ridiculous. Looking at the data camp link:\n",
        "    https://www.datacamp.com/tutorial/nlp-with-pytorch-a-comprehensive-guide , his is just fine. How?\n",
        "\n",
        "    Googled \"pytorch loss up and down\" and got:\n",
        "\n",
        "    1) https://stats.stackexchange.com/questions/515314/why-is-my-training-loss-going-up-and-down-all-the-time\n",
        "\n",
        "      Problem could be scaling. That's fair, I definitely never SCALED the numbers.\n",
        "\n",
        "\n",
        "    2) https://discuss.pytorch.org/t/why-my-training-loss-goes-down-and-up-again/33101\n",
        "      This solved it. Recommended editing the learning rate '''\n",
        "\n",
        "fig = plt.figure(figsize=(13,6))\n",
        "\n",
        "plt.plot(_train_losses, label='Train losses')\n",
        "plt.plot(_test_losses, label='Test losses')\n",
        "plt.title('Train Vs Test loss')\n",
        "plt.legend()\n",
        "plt.grid()\n",
        "\n",
        "plt.show()"
      ],
      "metadata": {
        "id": "7HHlLjNwSKJI",
        "colab": {
          "base_uri": "https://localhost:8080/",
          "height": 545
        },
        "outputId": "71ff5fcc-f91c-4f17-8b81-3e36058ce30d"
      },
      "execution_count": null,
      "outputs": [
        {
          "output_type": "display_data",
          "data": {
            "text/plain": [
              "<Figure size 1300x600 with 1 Axes>"
            ],
            "image/png": "[encoded data removed]"
          },
          "metadata": {}
        }
      ]
    },
    {
      "cell_type": "markdown",
      "source": [
        "# 8) Embedding model comparison"
      ],
      "metadata": {
        "id": "fh1-_eK4bxS-"
      }
    },
    {
      "cell_type": "code",
      "source": [
        "''' The PREVIOUS model used the embedding bag layer in its model. That layer doesn't bother with padding and instead\n",
        "    uses the offset vector to get the start and end positions of various sentences (that have been put into one tensor)\n",
        "    to do its calculations. See \"preprocess_batch\" function again for notes in the comments I wrote.\n",
        "\n",
        "    But what if I started with a regular embedding model? Would be interesting to see how good\n",
        "    the embedding bag layer model does in comparison. Start by seeing the original data again.  '''\n",
        "\n",
        "df.head()"
      ],
      "metadata": {
        "id": "hwesGL8HbzsC",
        "colab": {
          "base_uri": "https://localhost:8080/",
          "height": 206
        },
        "outputId": "35a141b9-dc1f-4881-ff37-8fee1975b170"
      },
      "execution_count": null,
      "outputs": [
        {
          "output_type": "execute_result",
          "data": {
            "text/plain": [
              "   Class Index                                              Title  \\\n",
              "0            3  Wall St. Bears Claw Back Into the Black (Reuters)   \n",
              "1            3  Carlyle Looks Toward Commercial Aerospace (Reu...   \n",
              "2            3    Oil and Economy Cloud Stocks' Outlook (Reuters)   \n",
              "3            3  Iraq Halts Oil Exports from Main Southern Pipe...   \n",
              "4            3  Oil prices soar to all-time record, posing new...   \n",
              "\n",
              "                                         Description  \n",
              "0  Reuters - Short-sellers, Wall Street's dwindli...  \n",
              "1  Reuters - Private investment firm Carlyle Grou...  \n",
              "2  Reuters - Soaring crude prices plus worries\\ab...  \n",
              "3  Reuters - Authorities have halted oil export\\f...  \n",
              "4  AFP - Tearaway world oil prices, toppling reco...  "
            ],
            "text/html": [
              "\n",
              "  <div id=\"df-21500858-9781-4620-bbf8-4aaaf579ff7d\" class=\"colab-df-container\">\n",
              "    <div>\n",
              "<style scoped>\n",
              "    .dataframe tbody tr th:only-of-type {\n",
              "        vertical-align: middle;\n",
              "    }\n",
              "\n",
              "    .dataframe tbody tr th {\n",
              "        vertical-align: top;\n",
              "    }\n",
              "\n",
              "    .dataframe thead th {\n",
              "        text-align: right;\n",
              "    }\n",
              "</style>\n",
              "<table border=\"1\" class=\"dataframe\">\n",
              "  <thead>\n",
              "    <tr style=\"text-align: right;\">\n",
              "      <th></th>\n",
              "      <th>Class Index</th>\n",
              "      <th>Title</th>\n",
              "      <th>Description</th>\n",
              "    </tr>\n",
              "  </thead>\n",
              "  <tbody>\n",
              "    <tr>\n",
              "      <th>0</th>\n",
              "      <td>3</td>\n",
              "      <td>Wall St. Bears Claw Back Into the Black (Reuters)</td>\n",
              "      <td>Reuters - Short-sellers, Wall Street's dwindli...</td>\n",
              "    </tr>\n",
              "    <tr>\n",
              "      <th>1</th>\n",
              "      <td>3</td>\n",
              "      <td>Carlyle Looks Toward Commercial Aerospace (Reu...</td>\n",
              "      <td>Reuters - Private investment firm Carlyle Grou...</td>\n",
              "    </tr>\n",
              "    <tr>\n",
              "      <th>2</th>\n",
              "      <td>3</td>\n",
              "      <td>Oil and Economy Cloud Stocks' Outlook (Reuters)</td>\n",
              "      <td>Reuters - Soaring crude prices plus worries\\ab...</td>\n",
              "    </tr>\n",
              "    <tr>\n",
              "      <th>3</th>\n",
              "      <td>3</td>\n",
              "      <td>Iraq Halts Oil Exports from Main Southern Pipe...</td>\n",
              "      <td>Reuters - Authorities have halted oil export\\f...</td>\n",
              "    </tr>\n",
              "    <tr>\n",
              "      <th>4</th>\n",
              "      <td>3</td>\n",
              "      <td>Oil prices soar to all-time record, posing new...</td>\n",
              "      <td>AFP - Tearaway world oil prices, toppling reco...</td>\n",
              "    </tr>\n",
              "  </tbody>\n",
              "</table>\n",
              "</div>\n",
              "    <div class=\"colab-df-buttons\">\n",
              "\n",
              "  <div class=\"colab-df-container\">\n",
              "    <button class=\"colab-df-convert\" onclick=\"convertToInteractive('df-21500858-9781-4620-bbf8-4aaaf579ff7d')\"\n",
              "            title=\"Convert this dataframe to an interactive table.\"\n",
              "            style=\"display:none;\">\n",
              "\n",
              "  <svg xmlns=\"http://www.w3.org/2000/svg\" height=\"24px\" viewBox=\"0 -960 960 960\">\n",
              "    <path d=\"M120-120v-720h720v720H120Zm60-500h600v-160H180v160Zm220 220h160v-160H400v160Zm0 220h160v-160H400v160ZM180-400h160v-160H180v160Zm440 0h160v-160H620v160ZM180-180h160v-160H180v160Zm440 0h160v-160H620v160Z\"/>\n",
              "  </svg>\n",
              "    </button>\n",
              "\n",
              "  <style>\n",
              "    .colab-df-container {\n",
              "      display:flex;\n",
              "      gap: 12px;\n",
              "    }\n",
              "\n",
              "    .colab-df-convert {\n",
              "      background-color: #E8F0FE;\n",
              "      border: none;\n",
              "      border-radius: 50%;\n",
              "      cursor: pointer;\n",
              "      display: none;\n",
              "      fill: #1967D2;\n",
              "      height: 32px;\n",
              "      padding: 0 0 0 0;\n",
              "      width: 32px;\n",
              "    }\n",
              "\n",
              "    .colab-df-convert:hover {\n",
              "      background-color: #E2EBFA;\n",
              "      box-shadow: 0px 1px 2px rgba(60, 64, 67, 0.3), 0px 1px 3px 1px rgba(60, 64, 67, 0.15);\n",
              "      fill: #174EA6;\n",
              "    }\n",
              "\n",
              "    .colab-df-buttons div {\n",
              "      margin-bottom: 4px;\n",
              "    }\n",
              "\n",
              "    [theme=dark] .colab-df-convert {\n",
              "      background-color: #3B4455;\n",
              "      fill: #D2E3FC;\n",
              "    }\n",
              "\n",
              "    [theme=dark] .colab-df-convert:hover {\n",
              "      background-color: #434B5C;\n",
              "      box-shadow: 0px 1px 3px 1px rgba(0, 0, 0, 0.15);\n",
              "      filter: drop-shadow(0px 1px 2px rgba(0, 0, 0, 0.3));\n",
              "      fill: #FFFFFF;\n",
              "    }\n",
              "  </style>\n",
              "\n",
              "    <script>\n",
              "      const buttonEl =\n",
              "        document.querySelector('#df-21500858-9781-4620-bbf8-4aaaf579ff7d button.colab-df-convert');\n",
              "      buttonEl.style.display =\n",
              "        google.colab.kernel.accessAllowed ? 'block' : 'none';\n",
              "\n",
              "      async function convertToInteractive(key) {\n",
              "        const element = document.querySelector('#df-21500858-9781-4620-bbf8-4aaaf579ff7d');\n",
              "        const dataTable =\n",
              "          await google.colab.kernel.invokeFunction('convertToInteractive',\n",
              "                                                    [key], {});\n",
              "        if (!dataTable) return;\n",
              "\n",
              "        const docLinkHtml = 'Like what you see? Visit the ' +\n",
              "          '<a target=\"_blank\" href=https://colab.research.google.com/notebooks/data_table.ipynb>data table notebook</a>'\n",
              "          + ' to learn more about interactive tables.';\n",
              "        element.innerHTML = '';\n",
              "        dataTable['output_type'] = 'display_data';\n",
              "        await google.colab.output.renderOutput(dataTable, element);\n",
              "        const docLink = document.createElement('div');\n",
              "        docLink.innerHTML = docLinkHtml;\n",
              "        element.appendChild(docLink);\n",
              "      }\n",
              "    </script>\n",
              "  </div>\n",
              "\n",
              "\n",
              "<div id=\"df-ebac94ca-3fc0-46da-b8e9-bae12c2ab747\">\n",
              "  <button class=\"colab-df-quickchart\" onclick=\"quickchart('df-ebac94ca-3fc0-46da-b8e9-bae12c2ab747')\"\n",
              "            title=\"Suggest charts\"\n",
              "            style=\"display:none;\">\n",
              "\n",
              "<svg xmlns=\"http://www.w3.org/2000/svg\" height=\"24px\"viewBox=\"0 0 24 24\"\n",
              "     width=\"24px\">\n",
              "    <g>\n",
              "        <path d=\"M19 3H5c-1.1 0-2 .9-2 2v14c0 1.1.9 2 2 2h14c1.1 0 2-.9 2-2V5c0-1.1-.9-2-2-2zM9 17H7v-7h2v7zm4 0h-2V7h2v10zm4 0h-2v-4h2v4z\"/>\n",
              "    </g>\n",
              "</svg>\n",
              "  </button>\n",
              "\n",
              "<style>\n",
              "  .colab-df-quickchart {\n",
              "      --bg-color: #E8F0FE;\n",
              "      --fill-color: #1967D2;\n",
              "      --hover-bg-color: #E2EBFA;\n",
              "      --hover-fill-color: #174EA6;\n",
              "      --disabled-fill-color: #AAA;\n",
              "      --disabled-bg-color: #DDD;\n",
              "  }\n",
              "\n",
              "  [theme=dark] .colab-df-quickchart {\n",
              "      --bg-color: #3B4455;\n",
              "      --fill-color: #D2E3FC;\n",
              "      --hover-bg-color: #434B5C;\n",
              "      --hover-fill-color: #FFFFFF;\n",
              "      --disabled-bg-color: #3B4455;\n",
              "      --disabled-fill-color: #666;\n",
              "  }\n",
              "\n",
              "  .colab-df-quickchart {\n",
              "    background-color: var(--bg-color);\n",
              "    border: none;\n",
              "    border-radius: 50%;\n",
              "    cursor: pointer;\n",
              "    display: none;\n",
              "    fill: var(--fill-color);\n",
              "    height: 32px;\n",
              "    padding: 0;\n",
              "    width: 32px;\n",
              "  }\n",
              "\n",
              "  .colab-df-quickchart:hover {\n",
              "    background-color: var(--hover-bg-color);\n",
              "    box-shadow: 0 1px 2px rgba(60, 64, 67, 0.3), 0 1px 3px 1px rgba(60, 64, 67, 0.15);\n",
              "    fill: var(--button-hover-fill-color);\n",
              "  }\n",
              "\n",
              "  .colab-df-quickchart-complete:disabled,\n",
              "  .colab-df-quickchart-complete:disabled:hover {\n",
              "    background-color: var(--disabled-bg-color);\n",
              "    fill: var(--disabled-fill-color);\n",
              "    box-shadow: none;\n",
              "  }\n",
              "\n",
              "  .colab-df-spinner {\n",
              "    border: 2px solid var(--fill-color);\n",
              "    border-color: transparent;\n",
              "    border-bottom-color: var(--fill-color);\n",
              "    animation:\n",
              "      spin 1s steps(1) infinite;\n",
              "  }\n",
              "\n",
              "  @keyframes spin {\n",
              "    0% {\n",
              "      border-color: transparent;\n",
              "      border-bottom-color: var(--fill-color);\n",
              "      border-left-color: var(--fill-color);\n",
              "    }\n",
              "    20% {\n",
              "      border-color: transparent;\n",
              "      border-left-color: var(--fill-color);\n",
              "      border-top-color: var(--fill-color);\n",
              "    }\n",
              "    30% {\n",
              "      border-color: transparent;\n",
              "      border-left-color: var(--fill-color);\n",
              "      border-top-color: var(--fill-color);\n",
              "      border-right-color: var(--fill-color);\n",
              "    }\n",
              "    40% {\n",
              "      border-color: transparent;\n",
              "      border-right-color: var(--fill-color);\n",
              "      border-top-color: var(--fill-color);\n",
              "    }\n",
              "    60% {\n",
              "      border-color: transparent;\n",
              "      border-right-color: var(--fill-color);\n",
              "    }\n",
              "    80% {\n",
              "      border-color: transparent;\n",
              "      border-right-color: var(--fill-color);\n",
              "      border-bottom-color: var(--fill-color);\n",
              "    }\n",
              "    90% {\n",
              "      border-color: transparent;\n",
              "      border-bottom-color: var(--fill-color);\n",
              "    }\n",
              "  }\n",
              "</style>\n",
              "\n",
              "  <script>\n",
              "    async function quickchart(key) {\n",
              "      const quickchartButtonEl =\n",
              "        document.querySelector('#' + key + ' button');\n",
              "      quickchartButtonEl.disabled = true;  // To prevent multiple clicks.\n",
              "      quickchartButtonEl.classList.add('colab-df-spinner');\n",
              "      try {\n",
              "        const charts = await google.colab.kernel.invokeFunction(\n",
              "            'suggestCharts', [key], {});\n",
              "      } catch (error) {\n",
              "        console.error('Error during call to suggestCharts:', error);\n",
              "      }\n",
              "      quickchartButtonEl.classList.remove('colab-df-spinner');\n",
              "      quickchartButtonEl.classList.add('colab-df-quickchart-complete');\n",
              "    }\n",
              "    (() => {\n",
              "      let quickchartButtonEl =\n",
              "        document.querySelector('#df-ebac94ca-3fc0-46da-b8e9-bae12c2ab747 button');\n",
              "      quickchartButtonEl.style.display =\n",
              "        google.colab.kernel.accessAllowed ? 'block' : 'none';\n",
              "    })();\n",
              "  </script>\n",
              "</div>\n",
              "\n",
              "    </div>\n",
              "  </div>\n"
            ]
          },
          "metadata": {},
          "execution_count": 37
        }
      ]
    },
    {
      "cell_type": "markdown",
      "source": [],
      "metadata": {
        "id": "hcMiFB-4V9P3"
      }
    },
    {
      "cell_type": "code",
      "source": [
        "# This is the TEST dataframe. Remember there's train.csv and test.csv for this project.\n",
        "tdf.head()"
      ],
      "metadata": {
        "id": "Jwc6Y00G_864",
        "colab": {
          "base_uri": "https://localhost:8080/",
          "height": 206
        },
        "outputId": "16b92520-24a2-46a2-b6b1-c2aa6ddb4ab2"
      },
      "execution_count": null,
      "outputs": [
        {
          "output_type": "execute_result",
          "data": {
            "text/plain": [
              "   Class Index                                              Title  \\\n",
              "0            3                  Fears for T N pension after talks   \n",
              "1            4  The Race is On: Second Private Team Sets Launc...   \n",
              "2            4      Ky. Company Wins Grant to Study Peptides (AP)   \n",
              "3            4      Prediction Unit Helps Forecast Wildfires (AP)   \n",
              "4            4        Calif. Aims to Limit Farm-Related Smog (AP)   \n",
              "\n",
              "                                         Description  \n",
              "0  Unions representing workers at Turner   Newall...  \n",
              "1  SPACE.com - TORONTO, Canada -- A second\\team o...  \n",
              "2  AP - A company founded by a chemistry research...  \n",
              "3  AP - It's barely dawn when Mike Fitzpatrick st...  \n",
              "4  AP - Southern California's smog-fighting agenc...  "
            ],
            "text/html": [
              "\n",
              "  <div id=\"df-23e58f8f-a50e-4775-8c13-a8a347ee7c8f\" class=\"colab-df-container\">\n",
              "    <div>\n",
              "<style scoped>\n",
              "    .dataframe tbody tr th:only-of-type {\n",
              "        vertical-align: middle;\n",
              "    }\n",
              "\n",
              "    .dataframe tbody tr th {\n",
              "        vertical-align: top;\n",
              "    }\n",
              "\n",
              "    .dataframe thead th {\n",
              "        text-align: right;\n",
              "    }\n",
              "</style>\n",
              "<table border=\"1\" class=\"dataframe\">\n",
              "  <thead>\n",
              "    <tr style=\"text-align: right;\">\n",
              "      <th></th>\n",
              "      <th>Class Index</th>\n",
              "      <th>Title</th>\n",
              "      <th>Description</th>\n",
              "    </tr>\n",
              "  </thead>\n",
              "  <tbody>\n",
              "    <tr>\n",
              "      <th>0</th>\n",
              "      <td>3</td>\n",
              "      <td>Fears for T N pension after talks</td>\n",
              "      <td>Unions representing workers at Turner   Newall...</td>\n",
              "    </tr>\n",
              "    <tr>\n",
              "      <th>1</th>\n",
              "      <td>4</td>\n",
              "      <td>The Race is On: Second Private Team Sets Launc...</td>\n",
              "      <td>SPACE.com - TORONTO, Canada -- A second\\team o...</td>\n",
              "    </tr>\n",
              "    <tr>\n",
              "      <th>2</th>\n",
              "      <td>4</td>\n",
              "      <td>Ky. Company Wins Grant to Study Peptides (AP)</td>\n",
              "      <td>AP - A company founded by a chemistry research...</td>\n",
              "    </tr>\n",
              "    <tr>\n",
              "      <th>3</th>\n",
              "      <td>4</td>\n",
              "      <td>Prediction Unit Helps Forecast Wildfires (AP)</td>\n",
              "      <td>AP - It's barely dawn when Mike Fitzpatrick st...</td>\n",
              "    </tr>\n",
              "    <tr>\n",
              "      <th>4</th>\n",
              "      <td>4</td>\n",
              "      <td>Calif. Aims to Limit Farm-Related Smog (AP)</td>\n",
              "      <td>AP - Southern California's smog-fighting agenc...</td>\n",
              "    </tr>\n",
              "  </tbody>\n",
              "</table>\n",
              "</div>\n",
              "    <div class=\"colab-df-buttons\">\n",
              "\n",
              "  <div class=\"colab-df-container\">\n",
              "    <button class=\"colab-df-convert\" onclick=\"convertToInteractive('df-23e58f8f-a50e-4775-8c13-a8a347ee7c8f')\"\n",
              "            title=\"Convert this dataframe to an interactive table.\"\n",
              "            style=\"display:none;\">\n",
              "\n",
              "  <svg xmlns=\"http://www.w3.org/2000/svg\" height=\"24px\" viewBox=\"0 -960 960 960\">\n",
              "    <path d=\"M120-120v-720h720v720H120Zm60-500h600v-160H180v160Zm220 220h160v-160H400v160Zm0 220h160v-160H400v160ZM180-400h160v-160H180v160Zm440 0h160v-160H620v160ZM180-180h160v-160H180v160Zm440 0h160v-160H620v160Z\"/>\n",
              "  </svg>\n",
              "    </button>\n",
              "\n",
              "  <style>\n",
              "    .colab-df-container {\n",
              "      display:flex;\n",
              "      gap: 12px;\n",
              "    }\n",
              "\n",
              "    .colab-df-convert {\n",
              "      background-color: #E8F0FE;\n",
              "      border: none;\n",
              "      border-radius: 50%;\n",
              "      cursor: pointer;\n",
              "      display: none;\n",
              "      fill: #1967D2;\n",
              "      height: 32px;\n",
              "      padding: 0 0 0 0;\n",
              "      width: 32px;\n",
              "    }\n",
              "\n",
              "    .colab-df-convert:hover {\n",
              "      background-color: #E2EBFA;\n",
              "      box-shadow: 0px 1px 2px rgba(60, 64, 67, 0.3), 0px 1px 3px 1px rgba(60, 64, 67, 0.15);\n",
              "      fill: #174EA6;\n",
              "    }\n",
              "\n",
              "    .colab-df-buttons div {\n",
              "      margin-bottom: 4px;\n",
              "    }\n",
              "\n",
              "    [theme=dark] .colab-df-convert {\n",
              "      background-color: #3B4455;\n",
              "      fill: #D2E3FC;\n",
              "    }\n",
              "\n",
              "    [theme=dark] .colab-df-convert:hover {\n",
              "      background-color: #434B5C;\n",
              "      box-shadow: 0px 1px 3px 1px rgba(0, 0, 0, 0.15);\n",
              "      filter: drop-shadow(0px 1px 2px rgba(0, 0, 0, 0.3));\n",
              "      fill: #FFFFFF;\n",
              "    }\n",
              "  </style>\n",
              "\n",
              "    <script>\n",
              "      const buttonEl =\n",
              "        document.querySelector('#df-23e58f8f-a50e-4775-8c13-a8a347ee7c8f button.colab-df-convert');\n",
              "      buttonEl.style.display =\n",
              "        google.colab.kernel.accessAllowed ? 'block' : 'none';\n",
              "\n",
              "      async function convertToInteractive(key) {\n",
              "        const element = document.querySelector('#df-23e58f8f-a50e-4775-8c13-a8a347ee7c8f');\n",
              "        const dataTable =\n",
              "          await google.colab.kernel.invokeFunction('convertToInteractive',\n",
              "                                                    [key], {});\n",
              "        if (!dataTable) return;\n",
              "\n",
              "        const docLinkHtml = 'Like what you see? Visit the ' +\n",
              "          '<a target=\"_blank\" href=https://colab.research.google.com/notebooks/data_table.ipynb>data table notebook</a>'\n",
              "          + ' to learn more about interactive tables.';\n",
              "        element.innerHTML = '';\n",
              "        dataTable['output_type'] = 'display_data';\n",
              "        await google.colab.output.renderOutput(dataTable, element);\n",
              "        const docLink = document.createElement('div');\n",
              "        docLink.innerHTML = docLinkHtml;\n",
              "        element.appendChild(docLink);\n",
              "      }\n",
              "    </script>\n",
              "  </div>\n",
              "\n",
              "\n",
              "<div id=\"df-49706bad-683d-427a-9c69-bdcc173fe2a9\">\n",
              "  <button class=\"colab-df-quickchart\" onclick=\"quickchart('df-49706bad-683d-427a-9c69-bdcc173fe2a9')\"\n",
              "            title=\"Suggest charts\"\n",
              "            style=\"display:none;\">\n",
              "\n",
              "<svg xmlns=\"http://www.w3.org/2000/svg\" height=\"24px\"viewBox=\"0 0 24 24\"\n",
              "     width=\"24px\">\n",
              "    <g>\n",
              "        <path d=\"M19 3H5c-1.1 0-2 .9-2 2v14c0 1.1.9 2 2 2h14c1.1 0 2-.9 2-2V5c0-1.1-.9-2-2-2zM9 17H7v-7h2v7zm4 0h-2V7h2v10zm4 0h-2v-4h2v4z\"/>\n",
              "    </g>\n",
              "</svg>\n",
              "  </button>\n",
              "\n",
              "<style>\n",
              "  .colab-df-quickchart {\n",
              "      --bg-color: #E8F0FE;\n",
              "      --fill-color: #1967D2;\n",
              "      --hover-bg-color: #E2EBFA;\n",
              "      --hover-fill-color: #174EA6;\n",
              "      --disabled-fill-color: #AAA;\n",
              "      --disabled-bg-color: #DDD;\n",
              "  }\n",
              "\n",
              "  [theme=dark] .colab-df-quickchart {\n",
              "      --bg-color: #3B4455;\n",
              "      --fill-color: #D2E3FC;\n",
              "      --hover-bg-color: #434B5C;\n",
              "      --hover-fill-color: #FFFFFF;\n",
              "      --disabled-bg-color: #3B4455;\n",
              "      --disabled-fill-color: #666;\n",
              "  }\n",
              "\n",
              "  .colab-df-quickchart {\n",
              "    background-color: var(--bg-color);\n",
              "    border: none;\n",
              "    border-radius: 50%;\n",
              "    cursor: pointer;\n",
              "    display: none;\n",
              "    fill: var(--fill-color);\n",
              "    height: 32px;\n",
              "    padding: 0;\n",
              "    width: 32px;\n",
              "  }\n",
              "\n",
              "  .colab-df-quickchart:hover {\n",
              "    background-color: var(--hover-bg-color);\n",
              "    box-shadow: 0 1px 2px rgba(60, 64, 67, 0.3), 0 1px 3px 1px rgba(60, 64, 67, 0.15);\n",
              "    fill: var(--button-hover-fill-color);\n",
              "  }\n",
              "\n",
              "  .colab-df-quickchart-complete:disabled,\n",
              "  .colab-df-quickchart-complete:disabled:hover {\n",
              "    background-color: var(--disabled-bg-color);\n",
              "    fill: var(--disabled-fill-color);\n",
              "    box-shadow: none;\n",
              "  }\n",
              "\n",
              "  .colab-df-spinner {\n",
              "    border: 2px solid var(--fill-color);\n",
              "    border-color: transparent;\n",
              "    border-bottom-color: var(--fill-color);\n",
              "    animation:\n",
              "      spin 1s steps(1) infinite;\n",
              "  }\n",
              "\n",
              "  @keyframes spin {\n",
              "    0% {\n",
              "      border-color: transparent;\n",
              "      border-bottom-color: var(--fill-color);\n",
              "      border-left-color: var(--fill-color);\n",
              "    }\n",
              "    20% {\n",
              "      border-color: transparent;\n",
              "      border-left-color: var(--fill-color);\n",
              "      border-top-color: var(--fill-color);\n",
              "    }\n",
              "    30% {\n",
              "      border-color: transparent;\n",
              "      border-left-color: var(--fill-color);\n",
              "      border-top-color: var(--fill-color);\n",
              "      border-right-color: var(--fill-color);\n",
              "    }\n",
              "    40% {\n",
              "      border-color: transparent;\n",
              "      border-right-color: var(--fill-color);\n",
              "      border-top-color: var(--fill-color);\n",
              "    }\n",
              "    60% {\n",
              "      border-color: transparent;\n",
              "      border-right-color: var(--fill-color);\n",
              "    }\n",
              "    80% {\n",
              "      border-color: transparent;\n",
              "      border-right-color: var(--fill-color);\n",
              "      border-bottom-color: var(--fill-color);\n",
              "    }\n",
              "    90% {\n",
              "      border-color: transparent;\n",
              "      border-bottom-color: var(--fill-color);\n",
              "    }\n",
              "  }\n",
              "</style>\n",
              "\n",
              "  <script>\n",
              "    async function quickchart(key) {\n",
              "      const quickchartButtonEl =\n",
              "        document.querySelector('#' + key + ' button');\n",
              "      quickchartButtonEl.disabled = true;  // To prevent multiple clicks.\n",
              "      quickchartButtonEl.classList.add('colab-df-spinner');\n",
              "      try {\n",
              "        const charts = await google.colab.kernel.invokeFunction(\n",
              "            'suggestCharts', [key], {});\n",
              "      } catch (error) {\n",
              "        console.error('Error during call to suggestCharts:', error);\n",
              "      }\n",
              "      quickchartButtonEl.classList.remove('colab-df-spinner');\n",
              "      quickchartButtonEl.classList.add('colab-df-quickchart-complete');\n",
              "    }\n",
              "    (() => {\n",
              "      let quickchartButtonEl =\n",
              "        document.querySelector('#df-49706bad-683d-427a-9c69-bdcc173fe2a9 button');\n",
              "      quickchartButtonEl.style.display =\n",
              "        google.colab.kernel.accessAllowed ? 'block' : 'none';\n",
              "    })();\n",
              "  </script>\n",
              "</div>\n",
              "\n",
              "    </div>\n",
              "  </div>\n"
            ]
          },
          "metadata": {},
          "execution_count": 38
        }
      ]
    },
    {
      "cell_type": "code",
      "source": [
        "''' Data loaders handle batches of data to the model, and giving a Data loader a function in its \"collate_fn\"\n",
        "    arg will have data preprocessed. This preprocess function is very similar to \"preprocess_batch\" for the\n",
        "    embedding bag model, so not too much to explain here.\n",
        "\n",
        "    The padding size for each batch will be different. That's honestly not a bad way to go about it. Why?\n",
        "      1) If first batch given has a sentence of max length 21, and the next batch? 30. Next batch? 55.\n",
        "          Then each batch won't have to adhere to a universal MAX length. For example, when the training\n",
        "          sentences are converted to numbers, the max length of ALL of the converted sentences\n",
        "          turned out to be 203. Making sure EVERY batches sentences are that long seems unnecessary.   '''\n",
        "\n",
        "def embedding_preprocess_batch(cur_batch):\n",
        "  labels = []\n",
        "  sentences = []\n",
        "\n",
        "  ''' Batches come in list form, and since list_of_training_tuples is what it's given, each index in list\n",
        "      will be a tuple.\n",
        "        Ex: \"[(3, \"Reuters - Short-sellers, Wall Street's dwindling\\\\band of ultra-cynics,\n",
        "             are seeing green again.\"), (3, 'Reuters - Private investment firm Carlyle Group,\\\\which has\n",
        "             a reputation for making well-timed and occasionally\\\\controversial plays in the defense\n",
        "             industry, has quietly placed\\\\its bets on another part of the market.')]\"\n",
        "\n",
        "      Now as stated in previous comment, find the max length of the batch. First get the sentences in\n",
        "      numerical format. Then use mapping to get  '''\n",
        "\n",
        "  num_sentence_batch = [vocab(tk(cur_tuple[1])) for cur_tuple in cur_batch]\n",
        "  max_pad_length = max(map(len, num_sentence_batch))\n",
        "  # print(f'Max pad length: {max_pad_length}')\n",
        "\n",
        "  # Batches are in tuple list format like \"[tuple, tuple, tuple, etc]\".\n",
        "  for i, (cur_label, cur_sentence) in enumerate(cur_batch):\n",
        "    # Decrement labels like before.\n",
        "    labels.append(int(cur_label - 1))\n",
        "\n",
        "    # tk tokenizes sentence, vocab turns it into numbers, convert to tensor and use padding.\n",
        "    num_sentence = torch.tensor(num_sentence_batch[i])\n",
        "    num_sentence = torch.nn.functional.pad(num_sentence, (0, max_pad_length - len(num_sentence)), mode='constant', value=0)\n",
        "    sentences.append(num_sentence)\n",
        "\n",
        "\n",
        "  # Convert the types\n",
        "  labels = torch.tensor(labels, dtype=torch.int64)\n",
        "  sentences = torch.stack(sentences)\n",
        "\n",
        "  return labels, sentences\n",
        "\n",
        "\n",
        "# tdl = TEST DataLoader variable. Used for display.\n",
        "tdl = DataLoader(list_of_training_tuples, batch_size=8, shuffle=False, collate_fn=embedding_preprocess_batch)\n",
        "for x in tdl:\n",
        "  print(x)\n",
        "  break"
      ],
      "metadata": {
        "id": "dRTNR-QZD3VI",
        "colab": {
          "base_uri": "https://localhost:8080/"
        },
        "outputId": "9ec07e16-ea87-40cc-9ca4-4a6eaeb25f66"
      },
      "execution_count": null,
      "outputs": [
        {
          "output_type": "stream",
          "name": "stdout",
          "text": [
            "(tensor([2, 2, 2, 2, 2, 2, 2, 2]), tensor([[   30,    11, 44988,     3,   420,   332,    17,     9, 60687,     6,\n",
            "         46371,     3,    38,  3595,   812,   421,     1,     0,     0,     0,\n",
            "             0,     0,     0,     0,     0,     0,     0,     0,     0,     0,\n",
            "             0,     0,     0,     0,     0,     0,     0,     0],\n",
            "        [   30,    11,   858,   735,   331, 19164,    96,     3, 24132,    26,\n",
            "             4,  3869,    12,   507, 46842,     8, 73428,  2729,     7,     2,\n",
            "           525,   225,     3,    26,  3465, 75521,  8368,    10,   205,   301,\n",
            "             6,     2,   126,     1,     0,     0,     0,     0],\n",
            "        [   30,    11,  2145,   460,   105,  1665, 23876,     2,   360,     8,\n",
            "             2,  1010,    12,   303,    38,   218, 46095,    40,     2,   305,\n",
            "           126,   106,    80,   179,     2,  7827,     6, 35498, 15416,     1,\n",
            "             0,     0,     0,     0,     0,     0,     0,     0],\n",
            "        [   30,    11,   681,    35,  5248,    83, 61940,    29,     2,   748,\n",
            "          3184,     7,   471,    97, 52280,   560,     4,   992,  2536,    92,\n",
            "         81694,     3,    28,    83,   281,    23,    10,    99,     1,     0,\n",
            "             0,     0,     0,     0,     0,     0,     0,     0],\n",
            "        [  152,    11, 82575,    54,    83,   105,     3,  9565,  1725,     8,\n",
            "         13320,  8818,     3,  3491,     4,    27,   329, 14280,  2963,    89,\n",
            "           251,   144,     2,    43,   335,   542,     1,     0,     0,     0,\n",
            "             0,     0,     0,     0,     0,     0,     0,     0],\n",
            "        [   30,    11,   271,   626,  1245,   307,    10, 63428,  3653,   391,\n",
            "          2421,    12,     2,    69,    19,    83,   105,  1819,   353,   469,\n",
            "         49405,   669,     3, 11624,     4,  1595,  1010,    29,   159, 70224,\n",
            "            56,     1,    15,  1147,     1,   326,    16,     0],\n",
            "        [   42,    11,  1667,     6,     2,   322,    17,     9,   906,   745,\n",
            "           126,  1919,  1396,   344,    25,   469,   117,     1,   744,   131,\n",
            "             7,     2,   285,    80,     5,   469, 50215,     1,  8203,  5967,\n",
            "             3,     2,   735,    53,  2490,    23,    55,     1],\n",
            "        [ 3094,     1,   226,    11,   906,   154,  5335,   128,     4,  2347,\n",
            "             7,  1128,     3,     8,    27,   821,    12,  3860,  1591,   344,\n",
            "            63,    80,     3,     2,    90,    23,    55,     3,  5937,     2,\n",
            "           360,    22,  2353,    29,     4, 23053,  4879,     1]]))\n"
          ]
        }
      ]
    },
    {
      "cell_type": "markdown",
      "source": [
        "### 8.2) Embedding model building"
      ],
      "metadata": {
        "id": "YXMqAoWJiBzG"
      }
    },
    {
      "cell_type": "code",
      "source": [
        "# Extremely similar to embedding bag model, won't reiterate too much again about how it works.\n",
        "\n",
        "class EmbeddingModel(nn.Module):\n",
        "  def __init__(self, num_classes_to_predict, vocab_size, embedding_size):\n",
        "    super(EmbeddingModel, self).__init__()\n",
        "    self.embedding_layer = torch.nn.Embedding(vocab_size, embedding_size)\n",
        "    self.linear_layer = torch.nn.Linear(embedding_size, num_classes_to_predict)\n",
        "    # self.assign_weight_values()\n",
        "\n",
        "\n",
        "  # Improvements: It's worth a try to manually init weights. Keep as much as the same as possible for comparison.\n",
        "\n",
        "  # # Weights can be manually initialized or not.\n",
        "  # def assign_weight_values(self):\n",
        "  #   weight_range = 0.5\n",
        "\n",
        "  #   # Give both layers weights that range from -value, to +value\n",
        "  #   self.embedding_layer.weight.data.uniform_(-weight_range, weight_range)\n",
        "  #   self.linear_layer.weight.data.uniform_(-weight_range, weight_range)\n",
        "  #   self.linear_layer.bias.data.zero_()\n",
        "\n",
        "\n",
        "  def forward(self, x):\n",
        "    x = self.embedding_layer(x)\n",
        "    x = torch.mean(x, dim=1)\n",
        "    return self.linear_layer(x)"
      ],
      "metadata": {
        "id": "d3ebk1bOiE5d"
      },
      "execution_count": null,
      "outputs": []
    },
    {
      "cell_type": "code",
      "source": [
        "''' Important variables like:\n",
        "\n",
        "    1) num_classes - How many classes to predict\n",
        "    2) vocab_size - How many unique words in the data.\n",
        "    3) embedding size - dimensions for embedding layer\n",
        "    4) learning_rate - Adjusts steps while going to optimal point.\n",
        "    5) epochs - How many times to train\n",
        "    6) batch_size - How big a batch of data to handle at once.\n",
        "    7) cel (loss func) - The loss func to use.\n",
        "    8) optimizer - adjusts the model params to lessen model error every epoch.\n",
        "    9) scheduler - adjusts the learning rate/lr based on # of epochs\n",
        "\n",
        "    Are needed. '''\n",
        "\n",
        "''' Improvements: Since I discovered the optimized and scheduler were the issue, I can try getting rid of redeclarations. Follow\n",
        "    the coding principle DRY, don't repeat yourself. '''\n",
        "\n",
        "num_of_classes =  len(set(df['Class Index']))\n",
        "vocab_size = len(vocab)\n",
        "embedding_size = 64\n",
        "\n",
        "embedding_model = EmbeddingModel(num_of_classes, vocab_size, embedding_size)"
      ],
      "metadata": {
        "id": "cuRLFy0ipjjj"
      },
      "execution_count": null,
      "outputs": []
    },
    {
      "cell_type": "code",
      "source": [
        "learning_rate = 0.1\n",
        "epochs = 10\n",
        "batch_size = 64\n",
        "cel = torch.nn.CrossEntropyLoss()\n",
        "optimizer = torch.optim.SGD(embedding_model.parameters(), lr=learning_rate)\n",
        "scheduler = torch.optim.lr_scheduler.StepLR(optimizer, 1.0, gamma=0.1)"
      ],
      "metadata": {
        "id": "H8dzKILn8VjV"
      },
      "execution_count": null,
      "outputs": []
    },
    {
      "cell_type": "markdown",
      "source": [
        "### 8.3) Embedding model training function"
      ],
      "metadata": {
        "id": "xu8w_hRLo7WW"
      }
    },
    {
      "cell_type": "code",
      "source": [
        "def train_embedding_model(cur_data_loader):\n",
        "  embedding_model.train()\n",
        "\n",
        "  ''' Accuracy = dividing how many the model got RIGHT out of a batch, vs the total IN the batch. Lists\n",
        "      are for evaluation metrics. '''\n",
        "  acc = 0\n",
        "  count = 0\n",
        "  train_accuracies = []\n",
        "  train_losses = []\n",
        "\n",
        "  log_interval = 500\n",
        "\n",
        "  # Timing is important to track exactly where we're at.\n",
        "  start_time = time.time()\n",
        "\n",
        "  for i, (label, sentences) in enumerate(cur_data_loader):\n",
        "    optimizer.zero_grad()\n",
        "\n",
        "    prediction = embedding_model(sentences)\n",
        "\n",
        "    loss = cel(prediction, label)\n",
        "\n",
        "    # For evaluation metrics\n",
        "    train_losses.append(loss)\n",
        "\n",
        "    loss.backward()\n",
        "\n",
        "    torch.nn.utils.clip_grad_norm_(eb_model.parameters(), 0.1)\n",
        "\n",
        "    optimizer.step()\n",
        "\n",
        "    boolean_tensor = (prediction.argmax(1) == label)\n",
        "\n",
        "    num_of_correct_predictions = boolean_tensor.sum().item()\n",
        "\n",
        "    acc = acc + num_of_correct_predictions\n",
        "    count = count + label.size(0)\n",
        "\n",
        "    # For evaluation metrics.\n",
        "    train_accuracies.append(acc / count)\n",
        "\n",
        "    if i % log_interval == 0 and i > 0:\n",
        "      # See how much time it took to get here.\n",
        "      elapsed = time.time() - start_time\n",
        "\n",
        "      # Print info to see\n",
        "      print(\n",
        "          \"| epoch {:3d} | {:5d}/{:5d} batches \"\n",
        "          \"| accuracy {:8.3f}\".format(\n",
        "              epochs, i, len(cur_data_loader), acc / count\n",
        "          )\n",
        "      )\n",
        "\n",
        "      # After this pause to show information, reset variables.\n",
        "      acc, count = 0, 0\n",
        "      start_time = time.time()\n",
        "\n",
        "  # For evaluation metric\n",
        "  return train_accuracies, train_losses"
      ],
      "metadata": {
        "id": "oON8ycSXklCf"
      },
      "execution_count": null,
      "outputs": []
    },
    {
      "cell_type": "markdown",
      "source": [
        "### 8.4) Data loaders and test function"
      ],
      "metadata": {
        "id": "Sjenb1s2zG33"
      }
    },
    {
      "cell_type": "code",
      "source": [
        "''' A few things have already been done regarding the embedding BAG model:\n",
        "\n",
        "    1) Using list_of_training_tuples/list_of_testing_tuples - Simple, tuples (label, sentence) for training\n",
        "        and testing.\n",
        "\n",
        "    2) train_size - For splitting data with train_test_split and\n",
        "\n",
        "    3) random_split - A line of earlier code split the training tuples into 2 variables which are:\n",
        "        \"new_train_data\" and \"new_valid_data\"\n",
        "\n",
        "    Then 3 data loaders were made. But the dataloader collate_fn args were given the OLDER \"preprocess_batch\"\n",
        "    function which worked with offsets. I'll create 3 more data loaders with the same variables in #3 above,\n",
        "    with the newer \"embedding_preprocess_batch\" function. '''\n",
        "\n",
        "train_dl = DataLoader(new_train_data.dataset, batch_size=batch_size, shuffle=True, collate_fn=embedding_preprocess_batch)\n",
        "valid_dl = DataLoader(new_valid_data.dataset, batch_size=batch_size, shuffle=True, collate_fn=embedding_preprocess_batch)\n",
        "test_dl = DataLoader(list_of_testing_tuples, batch_size=batch_size, shuffle=True, collate_fn=embedding_preprocess_batch)"
      ],
      "metadata": {
        "id": "Kn1lB0lm6tj7"
      },
      "execution_count": null,
      "outputs": []
    },
    {
      "cell_type": "code",
      "source": [
        "# Display a batch from the train data loader to help visually see what's going on behind the scenes.\n",
        "for x in train_dl:\n",
        "  print(x)\n",
        "  break"
      ],
      "metadata": {
        "id": "YhkvDFhX3FVQ",
        "colab": {
          "base_uri": "https://localhost:8080/"
        },
        "outputId": "9776f815-65b0-45f5-f76d-c6fdf3a26dcc"
      },
      "execution_count": null,
      "outputs": [
        {
          "output_type": "stream",
          "name": "stdout",
          "text": [
            "(tensor([3, 2, 3, 0, 1, 0, 0, 3, 3, 1, 0, 1, 2, 2, 2, 0, 2, 3, 1, 3, 1, 2, 0, 0,\n",
            "        0, 1, 1, 3, 0, 2, 2, 3, 2, 0, 1, 2, 0, 2, 2, 2, 0, 3, 0, 1, 2, 3, 1, 0,\n",
            "        0, 0, 1, 2, 3, 0, 0, 1, 2, 3, 3, 1, 0, 2, 0, 0]), tensor([[ 3022,     4,    27,  ...,     0,     0,     0],\n",
            "        [    2,   157,  3811,  ...,     0,     0,     0],\n",
            "        [  108,    77,    26,  ...,     0,     0,     0],\n",
            "        ...,\n",
            "        [11441,  5048,    15,  ...,     0,     0,     0],\n",
            "        [  814,     1,   667,  ...,     0,     0,     0],\n",
            "        [  214,  1402,   130,  ...,     0,     0,     0]]))\n"
          ]
        }
      ]
    },
    {
      "cell_type": "code",
      "source": [
        "def test_embedding_model(cur_dl):\n",
        "  embedding_model.eval()\n",
        "\n",
        "  # Metrics to be returned.\n",
        "  acc = 0\n",
        "  count = 0\n",
        "  loss = 0\n",
        "\n",
        "  with torch.no_grad():\n",
        "    # Loop over data loader to get batches, predict, get loss, then work out accuracy.\n",
        "    for i, (label, sentences) in enumerate(cur_dl):\n",
        "      prediction = embedding_model(sentences)\n",
        "      loss = cel(prediction, label)\n",
        "\n",
        "      boolean_tensor = (prediction.argmax(1) == label)\n",
        "      num_of_correct_predictions = boolean_tensor.sum().item()\n",
        "      acc = acc + num_of_correct_predictions\n",
        "      count = count + label.size(0)\n",
        "\n",
        "  return (acc / count), loss"
      ],
      "metadata": {
        "id": "28k2IKVjzuJv"
      },
      "execution_count": null,
      "outputs": []
    },
    {
      "cell_type": "markdown",
      "source": [
        "### 8.5) Embedding model training."
      ],
      "metadata": {
        "id": "pOcUcZK-0oSH"
      }
    },
    {
      "cell_type": "code",
      "source": [
        "# Metrics again.\n",
        "e_total_acc = None\n",
        "e_train_accuracies = []\n",
        "e_train_losses = []\n",
        "e_test_accuracies = []\n",
        "e_test_losses = []\n",
        "\n",
        "# Real training, of course iterate for however many num of epochs.\n",
        "for i in range(epochs):\n",
        "  # Begin timing on the training process\n",
        "  time_start = time.time()\n",
        "\n",
        "  # Of course, use the embedding functions instead of the previous ones.\n",
        "  cur_train_accuracies, cur_train_losses = train_embedding_model(train_dl)\n",
        "  test_accuracy, test_loss = test_embedding_model(valid_dl)\n",
        "\n",
        "  e_train_accuracies.append(cur_train_accuracies)\n",
        "  e_train_losses.append(cur_train_losses)\n",
        "  e_test_accuracies.append(test_accuracy)\n",
        "  e_test_losses.append(test_loss)\n",
        "\n",
        "  ''' First run? e_total_accu is none. Second run, make sure it's bigger than the recent test result. Also\n",
        "      remember scheduler.step adjusts lr based on # of epochs. '''\n",
        "  if e_total_acc is not None and e_total_acc > test_accuracy:\n",
        "    scheduler.step()\n",
        "  else:\n",
        "    e_total_acc = test_accuracy\n",
        "\n",
        "\n",
        "  print(\"-\" * 59)\n",
        "  print(\n",
        "      \"| end of epoch {:3d} | time: {:5.2f}s | \"\n",
        "      \"valid accuracy {:8.3f} \".format(\n",
        "          i, time.time() - time_start, test_accuracy\n",
        "      )\n",
        "  )\n",
        "  print(\"-\" * 59)"
      ],
      "metadata": {
        "id": "LRCQ916u0smZ",
        "colab": {
          "base_uri": "https://localhost:8080/"
        },
        "outputId": "04098057-e18b-438d-83d4-fd45994da24c"
      },
      "execution_count": null,
      "outputs": [
        {
          "output_type": "stream",
          "name": "stdout",
          "text": [
            "| epoch  10 |   500/ 1875 batches | accuracy    0.308\n",
            "| epoch  10 |  1000/ 1875 batches | accuracy    0.375\n",
            "| epoch  10 |  1500/ 1875 batches | accuracy    0.406\n",
            "-----------------------------------------------------------\n",
            "| end of epoch   0 | time: 53.77s | valid accuracy    0.452 \n",
            "-----------------------------------------------------------\n",
            "| epoch  10 |   500/ 1875 batches | accuracy    0.442\n",
            "| epoch  10 |  1000/ 1875 batches | accuracy    0.448\n",
            "| epoch  10 |  1500/ 1875 batches | accuracy    0.460\n",
            "-----------------------------------------------------------\n",
            "| end of epoch   1 | time: 54.08s | valid accuracy    0.481 \n",
            "-----------------------------------------------------------\n",
            "| epoch  10 |   500/ 1875 batches | accuracy    0.477\n",
            "| epoch  10 |  1000/ 1875 batches | accuracy    0.485\n",
            "| epoch  10 |  1500/ 1875 batches | accuracy    0.495\n",
            "-----------------------------------------------------------\n",
            "| end of epoch   2 | time: 53.00s | valid accuracy    0.514 \n",
            "-----------------------------------------------------------\n",
            "| epoch  10 |   500/ 1875 batches | accuracy    0.510\n",
            "| epoch  10 |  1000/ 1875 batches | accuracy    0.516\n",
            "| epoch  10 |  1500/ 1875 batches | accuracy    0.521\n",
            "-----------------------------------------------------------\n",
            "| end of epoch   3 | time: 52.95s | valid accuracy    0.533 \n",
            "-----------------------------------------------------------\n",
            "| epoch  10 |   500/ 1875 batches | accuracy    0.536\n",
            "| epoch  10 |  1000/ 1875 batches | accuracy    0.546\n",
            "| epoch  10 |  1500/ 1875 batches | accuracy    0.548\n",
            "-----------------------------------------------------------\n",
            "| end of epoch   4 | time: 52.60s | valid accuracy    0.554 \n",
            "-----------------------------------------------------------\n",
            "| epoch  10 |   500/ 1875 batches | accuracy    0.556\n",
            "| epoch  10 |  1000/ 1875 batches | accuracy    0.570\n",
            "| epoch  10 |  1500/ 1875 batches | accuracy    0.576\n",
            "-----------------------------------------------------------\n",
            "| end of epoch   5 | time: 56.55s | valid accuracy    0.545 \n",
            "-----------------------------------------------------------\n",
            "| epoch  10 |   500/ 1875 batches | accuracy    0.598\n",
            "| epoch  10 |  1000/ 1875 batches | accuracy    0.600\n",
            "| epoch  10 |  1500/ 1875 batches | accuracy    0.600\n",
            "-----------------------------------------------------------\n",
            "| end of epoch   6 | time: 53.61s | valid accuracy    0.601 \n",
            "-----------------------------------------------------------\n",
            "| epoch  10 |   500/ 1875 batches | accuracy    0.599\n",
            "| epoch  10 |  1000/ 1875 batches | accuracy    0.601\n",
            "| epoch  10 |  1500/ 1875 batches | accuracy    0.602\n",
            "-----------------------------------------------------------\n",
            "| end of epoch   7 | time: 53.65s | valid accuracy    0.602 \n",
            "-----------------------------------------------------------\n",
            "| epoch  10 |   500/ 1875 batches | accuracy    0.601\n",
            "| epoch  10 |  1000/ 1875 batches | accuracy    0.603\n",
            "| epoch  10 |  1500/ 1875 batches | accuracy    0.609\n",
            "-----------------------------------------------------------\n",
            "| end of epoch   8 | time: 53.40s | valid accuracy    0.604 \n",
            "-----------------------------------------------------------\n",
            "| epoch  10 |   500/ 1875 batches | accuracy    0.604\n",
            "| epoch  10 |  1000/ 1875 batches | accuracy    0.603\n",
            "| epoch  10 |  1500/ 1875 batches | accuracy    0.607\n",
            "-----------------------------------------------------------\n",
            "| end of epoch   9 | time: 52.90s | valid accuracy    0.607 \n",
            "-----------------------------------------------------------\n"
          ]
        }
      ]
    },
    {
      "cell_type": "markdown",
      "source": [
        "# 9) Model evaluation comparison"
      ],
      "metadata": {
        "id": "wxoHT5_GW8v4"
      }
    },
    {
      "cell_type": "code",
      "source": [
        "''' As seen in the above cell, the accuracy is a bit lower in this model than the model using the embedding BAG layer.\n",
        "    I'll display both training/testing accuracies and losses below. Starting with the embedding model. The code\n",
        "    is similar to the embedding bag model evaluation, so no need to re-explain. '''\n",
        "\n",
        "mean_e_tr_accuracies = [np.mean(train_accs) for train_accs in e_train_accuracies]\n",
        "\n",
        "_e_train_losses = []\n",
        "for etl in e_train_losses:\n",
        "  tensor_to_floats = [t.data.item() for t in etl]\n",
        "  _e_train_losses.append(np.mean(tensor_to_floats))\n",
        "\n",
        "print(f'Embedding model training accuracies:\\n{mean_e_tr_accuracies}\\n')\n",
        "print(f'Embedding model training losses:\\n{_e_train_losses}')"
      ],
      "metadata": {
        "colab": {
          "base_uri": "https://localhost:8080/"
        },
        "id": "_4LSeU5yXEwL",
        "outputId": "51b70def-eed9-4a4c-f8e1-a27664be0c3f"
      },
      "execution_count": null,
      "outputs": [
        {
          "output_type": "stream",
          "name": "stdout",
          "text": [
            "Embedding model training accuracies:\n",
            "[0.3664648838711602, 0.45304061677982704, 0.48455556270184025, 0.5151809309287334, 0.5453603993059751, 0.566932612042805, 0.5969926787149781, 0.6027975983024167, 0.602244746783173, 0.6066435754048979]\n",
            "\n",
            "Embedding model training losses:\n",
            "[1.3213379295349121, 1.2408655970255533, 1.187970884545644, 1.139277772172292, 1.091452608235677, 1.0481949127833048, 1.0095662090301514, 1.0050929942766826, 1.0005260137557983, 0.9959292113304138]\n"
          ]
        }
      ]
    },
    {
      "cell_type": "code",
      "source": [
        "_e_test_losses = []\n",
        "for etl in e_test_losses:\n",
        "  _e_test_losses.append(etl.data.item())\n",
        "\n",
        "print(f'Testing accuracies:\\n{e_test_accuracies}\\n\\nTest losses:\\n{_e_test_losses}')"
      ],
      "metadata": {
        "colab": {
          "base_uri": "https://localhost:8080/"
        },
        "id": "YiLbmH8wcAVr",
        "outputId": "1cbb3738-ee38-4986-a50f-ac3885487ca6"
      },
      "execution_count": null,
      "outputs": [
        {
          "output_type": "stream",
          "name": "stdout",
          "text": [
            "Testing accuracies:\n",
            "[0.45165, 0.480625, 0.5136833333333334, 0.532675, 0.5544333333333333, 0.5453333333333333, 0.6012666666666666, 0.602475, 0.6044666666666667, 0.6068916666666667]\n",
            "\n",
            "Test losses:\n",
            "[1.2656044960021973, 1.247748851776123, 1.1359566450119019, 1.0714997053146362, 1.0939339399337769, 1.0022799968719482, 1.1333175897598267, 0.9010704755783081, 0.9969657063484192, 0.9867383241653442]\n"
          ]
        }
      ]
    },
    {
      "cell_type": "code",
      "source": [
        "''' See training and test accuracies/losses for both kinds of models.\n",
        "\n",
        "    It's more than clear than embedding BAG model is superior in its way of using offset vectors, in comparison\n",
        "    to the embedding model which relies on padding! '''\n",
        "figure, axis = plt.subplots(2, 2, figsize=(14, 7))\n",
        "axis[0, 0].plot(_train_accuracies)\n",
        "axis[0, 0].plot(test_accuracies)\n",
        "axis[0, 0].set_title('Emb BAG Train & Test accuracies')\n",
        "\n",
        "axis[0, 1].plot(_train_losses)\n",
        "axis[0, 1].plot(_test_losses)\n",
        "axis[0, 1].set_title('Emb BAG Train & Test losses')\n",
        "\n",
        "axis[1, 0].plot(mean_e_tr_accuracies)\n",
        "axis[1, 0].plot(e_test_accuracies)\n",
        "axis[1, 0].set_title('Embedding Train & Test accuracies')\n",
        "\n",
        "axis[1, 1].plot(_e_train_losses)\n",
        "axis[1, 1].plot(_e_test_losses)\n",
        "axis[1, 1].set_title('Embedding Train & Test losses')\n",
        "\n",
        "plt.show()"
      ],
      "metadata": {
        "colab": {
          "base_uri": "https://localhost:8080/",
          "height": 622
        },
        "id": "9WAT7DTBiyaR",
        "outputId": "1d9dc804-04c4-4069-c031-11b662408e37"
      },
      "execution_count": null,
      "outputs": [
        {
          "output_type": "display_data",
          "data": {
            "text/plain": [
              "<Figure size 1400x700 with 4 Axes>"
            ],
            "image/png": "[encoded data removed]"
          },
          "metadata": {}
        }
      ]
    }
  ]
}